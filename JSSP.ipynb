{
 "cells": [
  {
   "attachments": {},
   "cell_type": "markdown",
   "id": "222a0390",
   "metadata": {},
   "source": [
    "# JSSP"
   ]
  },
  {
   "attachments": {},
   "cell_type": "markdown",
   "id": "6a48fe9f",
   "metadata": {},
   "source": [
    "<h2>Imports</h2>"
   ]
  },
  {
   "cell_type": "code",
   "execution_count": 434,
   "id": "58dfb4b3",
   "metadata": {},
   "outputs": [],
   "source": [
    "import pandas as pd\n",
    "import numpy as np\n",
    "# import cvxpy as cp\n",
    "import time\n",
    "import dimod\n",
    "import matplotlib.pyplot as plt\n",
    "from matplotlib import rc\n",
    "import math\n"
   ]
  },
  {
   "attachments": {},
   "cell_type": "markdown",
   "id": "79787ac1",
   "metadata": {},
   "source": [
    "<h2>Annealing simulation functions</h2>"
   ]
  },
  {
   "cell_type": "code",
   "execution_count": 435,
   "id": "6aa303da",
   "metadata": {},
   "outputs": [],
   "source": [
    "def sendToDwave(qubo, shots=100):\n",
    "    # Description: functions that solves a particular qubo problem\n",
    "\n",
    "    # INPUT:\n",
    "    # qubo: (matrix) representation of the xt*Q*x problem\n",
    "\n",
    "    # OUTPUT:\n",
    "    # sampleset: array of tuples of the form (solution, energy) of length \"shots\" containing posible (but not neccesarily feasible) solutions\n",
    "    \n",
    "    tic = time.perf_counter() # for time measuring\n",
    "    sampleset = dimod.SimulatedAnnealingSampler().sample_qubo(qubo, num_reads=shots)\n",
    "    sampleset = sampleset.aggregate() # solo agrega soluciones DIFERENTES.\n",
    "    sampleset = [(sample, energy) for sample, energy in zip(sampleset.record.sample, sampleset.record.energy)]\n",
    "    toc = time.perf_counter() # for time measuring\n",
    "    print(f\"Simulating {shots} instances of annealing took: {(toc-tic)}s\")\n",
    "    # print(\"Sampleset sin filtrar: \", sampleset)\n",
    "    return sampleset\n",
    "\n",
    "def from_sample_to_int(sample):\n",
    "    binary_list = sample[0].tolist()\n",
    "\n",
    "    # Convert the binary list to a string and join the elements\n",
    "    binary_string = ''.join(str(x) for x in binary_list)\n",
    "    # Use the int() function with base 2 to convert the binary string to an integer\n",
    "    result = int(binary_string, 2)\n",
    "    return result\n",
    "\n",
    "def count_elements(sample_list, total_spaces):\n",
    "    frequency_dict = {}\n",
    "    energy_dict = {}\n",
    "    for item in sample_list:\n",
    "        hashable_item = from_sample_to_int(item)\n",
    "        if hashable_item in frequency_dict:\n",
    "            frequency_dict[hashable_item] += 1\n",
    "        else:\n",
    "            energy_dict[hashable_item] = int(item[1])\n",
    "            frequency_dict[hashable_item] = 1\n",
    "    results_list = [bin(item)[2:] for item in frequency_dict]\n",
    "    energies = list(energy_dict.values())\n",
    "    frequencies = list(frequency_dict.values())\n",
    "\n",
    "    new_results = []\n",
    "    for result in results_list:\n",
    "        if len(result) != total_spaces:\n",
    "            ceros_string = '0' * int(total_spaces - len(result))\n",
    "            result = ceros_string + result\n",
    "        new_results.append(result)\n",
    "    result = {'results': new_results, 'energies': energies, 'frequencies': frequencies}\n",
    "    return result\n",
    "\n",
    "def make_histogram(samples_dict):\n",
    "    # Constructing an histogram to represent the solutions\n",
    "\n",
    "    df = pd.DataFrame(samples_dict)\n",
    "    print(df)\n",
    "\n",
    "    # Sample data\n",
    "    data = samples_dict\n",
    "\n",
    "    # Extract the labels and the amounts into separate lists\n",
    "    labels = data['results']\n",
    "    amounts = data['frequencies']\n",
    "    energies = data['energies']\n",
    "\n",
    "    # Create a bar plot\n",
    "    plt.bar(labels, amounts)\n",
    "\n",
    "    for i, count in enumerate(amounts):\n",
    "        plt.text(i, count, str(count), ha='center', va='bottom')\n",
    "\n",
    "    # Add labels and title to the plot\n",
    "    plt.xlabel('Soluciones')\n",
    "    plt.ylabel('Cantidades')\n",
    "    plt.title('Soluciones y cantidad de veces que aparecen')\n",
    "\n",
    "    # Show the plot\n",
    "    plt.show()\n"
   ]
  },
  {
   "cell_type": "code",
   "execution_count": 436,
   "id": "0fdce316",
   "metadata": {},
   "outputs": [],
   "source": [
    "def lowest_energy(sampleset):  # Finds the lowest energy solution\n",
    "    \n",
    "    # Description: given a full sampleset (tuples of the form (solution, energy) finds the lowest energy SAMPLE.\n",
    "    # INPUTS:\n",
    "    # Sampleset: a sampleset of the form list((solution, energy))\n",
    "\n",
    "    # OUTPUTS:\n",
    "    # best: a tuple of the form (solution, energy)\n",
    "\n",
    "    if len(sampleset):\n",
    "        energies = np.array([el[1] for el in sampleset])  # energias\n",
    "        index = np.argmin(energies)  # indice de la de menor energia\n",
    "        ret = sampleset[index]  # solucion de menor energia\n",
    "        return ret\n",
    "\n",
    "    else:\n",
    "        return None"
   ]
  },
  {
   "attachments": {},
   "cell_type": "markdown",
   "id": "c1acafa7",
   "metadata": {},
   "source": [
    "<h2>Auxiliar functions</h2>"
   ]
  },
  {
   "cell_type": "code",
   "execution_count": 437,
   "id": "c473ae28",
   "metadata": {},
   "outputs": [],
   "source": [
    "def get_index(v_list, value):\n",
    "    index = 0\n",
    "    for l in v_list:\n",
    "        if l == value:\n",
    "            return index\n",
    "        index += 1\n",
    "    return None\n"
   ]
  },
  {
   "cell_type": "code",
   "execution_count": 438,
   "id": "45ef620d",
   "metadata": {},
   "outputs": [],
   "source": [
    "def get_subindexes(item):\n",
    "    index_list = \"\"\n",
    "    for sub_item in item:\n",
    "        if index_list == \"\":\n",
    "            index_list += str(sub_item)\n",
    "        else:\n",
    "            index_list += \",\"\n",
    "            index_list += str(sub_item)\n",
    "    return index_list"
   ]
  },
  {
   "cell_type": "code",
   "execution_count": 439,
   "id": "e1c52391",
   "metadata": {},
   "outputs": [],
   "source": [
    "def get_variable_index(x, var_name):\n",
    "    arr = np.where(np.array(x) == var_name)\n",
    "    if len(arr) > 0 and len(arr[0]) > 0:\n",
    "        return arr[0][0]\n",
    "    return None"
   ]
  },
  {
   "cell_type": "code",
   "execution_count": 440,
   "id": "a7a3afdd",
   "metadata": {},
   "outputs": [],
   "source": [
    "def add_Q_value(x, q_list, i, j, value):\n",
    "    index_i = get_variable_index(x, i)\n",
    "    index_j = get_variable_index(x, j)\n",
    "    if index_i is not None and index_j is not None and value != 0:\n",
    "        q_list.append([index_i, index_j, value])\n",
    "\n",
    "list1 = []\n",
    "x = [\"v1\", \"v2\"]\n",
    "add_Q_value(x, list1, \"v2\", \"v2\", -10)\n"
   ]
  },
  {
   "cell_type": "code",
   "execution_count": 441,
   "id": "24aed0c3",
   "metadata": {},
   "outputs": [
    {
     "name": "stdout",
     "output_type": "stream",
     "text": [
      "[[0 0]\n",
      " [0 0]]\n",
      "[[-1 -2]\n",
      " [-2  0]]\n"
     ]
    }
   ],
   "source": [
    "def update_Q(Q, newQ):\n",
    "    for q in newQ:\n",
    "        if q[0] == q[1]:\n",
    "            Q[q[0]][q[0]] += q[2]\n",
    "        else:\n",
    "            Q[q[0]][q[1]] += q[2]\n",
    "            Q[q[1]][q[0]] += q[2]\n",
    "\n",
    "Q = np.array([[0,0],[0,0]])\n",
    "print(Q)\n",
    "newQ = [[0, 0, -1], [0, 1, -2]]\n",
    "update_Q(Q,newQ)\n",
    "print(Q)"
   ]
  },
  {
   "cell_type": "code",
   "execution_count": 442,
   "id": "fc79b6a5",
   "metadata": {},
   "outputs": [],
   "source": [
    "def get_Q_value(Q, x, i, j):\n",
    "    index_i = get_variable_index(x, i)\n",
    "    index_j = get_variable_index(x, j)\n",
    "    if index_i is not None and index_j is not None:\n",
    "        return Q[index_i][index_j]\n",
    "    \n",
    "    "
   ]
  },
  {
   "cell_type": "code",
   "execution_count": 443,
   "id": "b87bfb74",
   "metadata": {},
   "outputs": [],
   "source": [
    "def print_Q_item(Q, x, i, j):\n",
    "    # i, j numeric indexes\n",
    "    if i>=0 and i<len(x) and j>=0 and j<len(x):\n",
    "        var_i = x[i]\n",
    "        var_j = x[j]\n",
    "        print(\"{\", var_i, \",\", var_j, \"} =\", Q[i][j])"
   ]
  },
  {
   "cell_type": "code",
   "execution_count": 444,
   "id": "dac8b0a9",
   "metadata": {},
   "outputs": [],
   "source": [
    "def print_Q_nonZero(Q, x):\n",
    "    for i in range(len(Q)):\n",
    "        for j in range(len(Q[i])):\n",
    "            if Q[i][j] != 0:\n",
    "                print_Q_item(Q, x, i, j)\n"
   ]
  },
  {
   "cell_type": "code",
   "execution_count": 445,
   "metadata": {},
   "outputs": [
    {
     "name": "stdout",
     "output_type": "stream",
     "text": [
      "[[0. 3.]]\n",
      "[[0. 0.]\n",
      " [0. 9.]]\n",
      "0.0\n"
     ]
    }
   ],
   "source": [
    "a = np.matrix([1,2,4,8])\n",
    "\n",
    "\n",
    "a = np.zeros((1,2))\n",
    "a[0][1] = 3\n",
    "print(a)\n",
    "q = a.transpose()*a\n",
    "print(q)\n",
    "print(q[0][1])"
   ]
  },
  {
   "cell_type": "code",
   "execution_count": 446,
   "id": "1090946b",
   "metadata": {},
   "outputs": [],
   "source": [
    "def linear_constraint(x, vars, a, b=0):\n",
    "\n",
    "    Q_list = []\n",
    "    if len(vars) != len(a):\n",
    "        return Q_list\n",
    "\n",
    "    a_vector = np.zeros((1, len(a)))\n",
    "    for i in range(len(a)):\n",
    "        a_vector[0][i] = a[i]\n",
    "\n",
    "    matrix = a_vector.transpose()*a_vector - 2*b*np.diag(a)\n",
    "\n",
    "    for i in range(len(matrix)):\n",
    "        for j in range(i, len(matrix[i])):\n",
    "            add_Q_value(x, Q_list, vars[i], vars[j], matrix[i][j])\n",
    "    \n",
    "    return Q_list\n"
   ]
  },
  {
   "attachments": {},
   "cell_type": "markdown",
   "id": "9c4d6828",
   "metadata": {},
   "source": [
    "<h2>1) Constants and Definitions</h2>\n"
   ]
  },
  {
   "attachments": {},
   "cell_type": "markdown",
   "id": "23d542d8",
   "metadata": {},
   "source": [
    "\n",
    "### 1.1) Time slots\n",
    "\n",
    "T_slots = {1,2,3,... 16} (4 bits: 4qb)"
   ]
  },
  {
   "cell_type": "code",
   "execution_count": 447,
   "id": "8b91a6da",
   "metadata": {},
   "outputs": [],
   "source": [
    "qb_amount = 4"
   ]
  },
  {
   "attachments": {},
   "cell_type": "markdown",
   "id": "0a698665",
   "metadata": {},
   "source": [
    "### 1.2) Jobs\n",
    "J = {JB1, JB2}"
   ]
  },
  {
   "cell_type": "code",
   "execution_count": 448,
   "id": "e7bf7cb4",
   "metadata": {},
   "outputs": [],
   "source": [
    "J = [0, 1]\n",
    "J = [\"JB1\", \"JB2\"]"
   ]
  },
  {
   "attachments": {},
   "cell_type": "markdown",
   "id": "3ecf251d",
   "metadata": {},
   "source": [
    "### 1.3) Products\n",
    "P = {B1, B2, LAM1, LAM2}\n",
    "              = {0,   1,    2,    3}"
   ]
  },
  {
   "cell_type": "code",
   "execution_count": 449,
   "id": "2970a613",
   "metadata": {},
   "outputs": [],
   "source": [
    "P = [0, 1, 2, 3]\n",
    "P = [\"B1\", \"B2\", \"LAM1\", \"LAM2\"]"
   ]
  },
  {
   "attachments": {},
   "cell_type": "markdown",
   "id": "056c122f",
   "metadata": {},
   "source": [
    "### 1.4) successors:\n",
    "      LAM1 -> B1 ---- P2 -> P0\n",
    "      LAM2 -> B1 ----   P3 -> P0\n",
    "      LAM1 -> B2 ----   P2 -> P1"
   ]
  },
  {
   "cell_type": "code",
   "execution_count": 450,
   "id": "35345e8f",
   "metadata": {},
   "outputs": [],
   "source": [
    "successors = [[P[2], P[0]], [P[3], P[0]], [P[2], P[1]]]"
   ]
  },
  {
   "attachments": {},
   "cell_type": "markdown",
   "id": "06163f34",
   "metadata": {},
   "source": [
    "### 1.5) amounts:\n",
    "      a_JB1 = 4\n",
    "      a_JB2 = 2"
   ]
  },
  {
   "cell_type": "code",
   "execution_count": 451,
   "id": "b8f7b69d",
   "metadata": {},
   "outputs": [],
   "source": [
    "amounts = [4, 2]"
   ]
  },
  {
   "attachments": {},
   "cell_type": "markdown",
   "id": "74bfa881",
   "metadata": {},
   "source": [
    "### 1.6) final product of job:\n",
    "      JB1 : B1\n",
    "      JB2 : B2"
   ]
  },
  {
   "cell_type": "code",
   "execution_count": 452,
   "id": "3f244aa0",
   "metadata": {},
   "outputs": [],
   "source": [
    "final_product = [P[0], P[1]]"
   ]
  },
  {
   "attachments": {},
   "cell_type": "markdown",
   "id": "97de0742",
   "metadata": {},
   "source": [
    "### 1.7) deadline:\n",
    "      D_JB1 = 10\n",
    "      D_JB2 = 11"
   ]
  },
  {
   "cell_type": "code",
   "execution_count": 453,
   "id": "84e87111",
   "metadata": {},
   "outputs": [],
   "source": [
    "D = [10, 11]"
   ]
  },
  {
   "attachments": {},
   "cell_type": "markdown",
   "id": "288f9e7d",
   "metadata": {},
   "source": [
    "### 1.8) Machines\n",
    "M = {M1, M2, M3}"
   ]
  },
  {
   "cell_type": "code",
   "execution_count": 454,
   "id": "8971019b",
   "metadata": {},
   "outputs": [],
   "source": [
    "M = [0, 1, 2]\n",
    "M = [\"M1\", \"M2\", \"M3\"]"
   ]
  },
  {
   "attachments": {},
   "cell_type": "markdown",
   "id": "766d465a",
   "metadata": {},
   "source": [
    "#### 1.8.1) speeds = 1 for each machine\n",
    "\n",
    "#### 1.8.2) production machines:\n",
    "\n",
    "        LAM1, LAM2 -> M1\n",
    "        B1, B2 -> M2\n",
    "        B1 -> M3\n",
    "\n",
    "### 1.9) Operations = {O_jpms : j=job,i=product, m=machine, s=splitting}\n",
    "\n",
    "      O_(JB1,LAM1,M1,1)     ->   O_(J0,P2,M0,1) -> O[0]\n",
    "      O_(JB1,LAM1,M1,2)     ->   O_(J0,P2,M0,2) -> O[1]\n",
    "      O_(JB1,LAM2,M1,1)     ->   O_(J0,P3,M0,1) -> O[2]\n",
    "      O_(JB1,LAM2,M1,2)     ->   O_(J0,P3,M0,2) -> O[3]\n",
    "      O_(JB1,B1,M2,1)       ->   O_(J0,P0,M1,1) -> O[4]\n",
    "      O_(JB1,B1,M3,1)       ->   O_(J0,P0,M2,1) -> O[5]\n",
    "      O_(JB2,LAM1,M1,1)     ->   O_(J1,P2,M0,1) -> O[6]\n",
    "      O_(JB2,B2,M2,1)       ->   O_(J1,P1,M1,1) -> O[7]"
   ]
  },
  {
   "cell_type": "code",
   "execution_count": 455,
   "id": "a1534819",
   "metadata": {},
   "outputs": [],
   "source": [
    "O = [ [J[0], P[2], M[0], \"1\"],\n",
    "     [J[0], P[2], M[0], \"2\"], \n",
    "     [J[0], P[3], M[0], \"1\"],\n",
    "     [J[0], P[3], M[0], \"2\"],\n",
    "     [J[0], P[0], M[1]],      #omit splitting when not needed\n",
    "     [J[0], P[0], M[2]],\n",
    "     [J[1], P[2], M[0]],\n",
    "     [J[1], P[1], M[1]]\n",
    "     ]"
   ]
  },
  {
   "attachments": {},
   "cell_type": "markdown",
   "id": "80625151",
   "metadata": {},
   "source": [
    "### 1.10) Operations by Machine m:\n",
    "\n",
    "        OM_m' = {O_jpms : m=m'}\n",
    "        o_m = #(OM_m)\n",
    "\n",
    "      M1: {\n",
    "            O_(JB1,LAM1,M1,1);\n",
    "            O_(JB1,LAM1,M1,2)\n",
    "            O_(JB1,LAM2,M1,1)\n",
    "            O_(JB1,LAM2,M1,2)\n",
    "            O_(JB2,LAM1,M1,1)\n",
    "      }\n",
    "      o_M1 = 5\n",
    "\n",
    "      M2: {\n",
    "          O_(JB1,B1,M2,1);\n",
    "          O_(JB2,B2,M2,1)\n",
    "      }\n",
    "      o_M2 = 2\n",
    "\n",
    "      M3: { O_(JB1,B1,M3,1) }\n",
    "      o_M3 = 1\n"
   ]
  },
  {
   "cell_type": "code",
   "execution_count": 456,
   "id": "2ff3d534",
   "metadata": {},
   "outputs": [],
   "source": [
    "OM = []\n",
    "#o_m = []\n",
    "for m in M:\n",
    "     count = 0\n",
    "     op_list = []\n",
    "     for o in O:\n",
    "          if o[2] == m:\n",
    "               op_list.append(o)\n",
    "     OM.append(op_list)\n",
    "\n",
    "# print(\"Op de M1\", OM[0])\n",
    "# print(\"Op de M2\", OM[1])\n",
    "# print(\"Op de M3\", OM[2])\n",
    "\n"
   ]
  },
  {
   "attachments": {},
   "cell_type": "markdown",
   "id": "59227a15",
   "metadata": {},
   "source": [
    "1.11) (jps), [jpms] : lexicographic order\n",
    "\n",
    "### 1.12) Transition Cost : TC^m_(i,i')"
   ]
  },
  {
   "cell_type": "code",
   "execution_count": 457,
   "id": "274446d7",
   "metadata": {},
   "outputs": [],
   "source": [
    "TC1 = [\n",
    "     [0,       1500,\t0,\t1500,\t0],\n",
    "     [200,\t0,\t     200,\t0,\t     200],\n",
    "     [0,\t     1500,\t0,\t1500,\t0],\n",
    "     [200,\t0,\t     200, 0,\t     200],\n",
    "     [0,\t     1500,\t0,\t1500,\t0]\n",
    "]\n",
    "TC2 = [\n",
    "     [0, 200],\n",
    "     [200, 0]\n",
    "]\n",
    "TC3 = [[0]]\n",
    "\n",
    "TC = [TC1, TC2, TC3]"
   ]
  },
  {
   "attachments": {},
   "cell_type": "markdown",
   "id": "b9a62e22",
   "metadata": {},
   "source": [
    "### 1.13) Transition Time : TT^m_(p,p')"
   ]
  },
  {
   "cell_type": "code",
   "execution_count": 458,
   "id": "3d4ed36d",
   "metadata": {},
   "outputs": [],
   "source": [
    "TT1 = [\n",
    "     [0,\t1,\t0,\t1,\t0],\n",
    "     [0,\t0,\t0,\t0,\t0],\n",
    "     [0,\t1,\t0,\t1,\t0],\n",
    "     [0,\t0,\t0,\t0,\t0],\n",
    "     [0,\t1,\t0,\t1,\t0]\n",
    "]\n",
    "TT2 = [\n",
    "     [0, 1],\n",
    "     [2, 0]\n",
    "]\n",
    "TT3 = [[0]]\n",
    "\n",
    "TT = [TT1, TT2, TT3]"
   ]
  },
  {
   "attachments": {},
   "cell_type": "markdown",
   "id": "462fd2fc",
   "metadata": {},
   "source": [
    "### 1.14) Realizations\n",
    "\n",
    "      A_JB1,1     = {O_(JB1,LAM1,M1,1); O_(JB1,LAM2,M1,1); O_(JB1,B1,M2,1)}\n",
    "                  = [O[0], O[2], O[4]]\n",
    "      A_JB1,2 = {O_(JB1,LAM1,M1,2); O_(JB1,LAM2,M1,2); O_(JB1,B1,M3,1)}\n",
    "                  = [O[1], O[3], O[5]]\n",
    "      A_JB2,1 = {O_(JB2,LAM1,M1,1); O_(JB2,B2,M2,1)}\n",
    "                  = [O[6], O[7]]\n",
    "\n",
    "      O_(JB1,LAM1,M1,1)     ~   O_(J0,P2,M0,1) ~ O[0]\n",
    "      O_(JB1,LAM1,M1,2)     ~   O_(J0,P2,M0,2) ~ O[1]\n",
    "      O_(JB1,LAM2,M1,1)     ~   O_(J0,P3,M0,1) ~ O[2]\n",
    "      O_(JB1,LAM2,M1,2)     ~   O_(J0,P3,M0,2) ~ O[3]\n",
    "      O_(JB1,B1,M2,1)       ~   O_(J0,P0,M1,1) ~ O[4]\n",
    "      O_(JB1,B1,M3,1)       ~   O_(J0,P0,M2,1) ~ O[5]\n",
    "      O_(JB2,LAM1,M1,1)     ~   O_(J1,P2,M0,1) ~ O[6]\n",
    "      O_(JB2,B2,M2,1)       ~   O_(J1,P1,M1,1) ~ O[7]\n"
   ]
  },
  {
   "cell_type": "code",
   "execution_count": 459,
   "id": "5341fa88",
   "metadata": {},
   "outputs": [],
   "source": [
    "A = [\n",
    "     [O[0], O[2], O[4]],\n",
    "     [O[1], O[3], O[5]],\n",
    "     [O[6], O[7]]\n",
    "]"
   ]
  },
  {
   "attachments": {},
   "cell_type": "markdown",
   "id": "3dbfffc6",
   "metadata": {},
   "source": [
    "1.14.1) Precedences (operations)\n",
    "\n",
    "      A_JB1,1:\n",
    "          O_(JB1,LAM1,M1,1) -> O_(JB1,B1,M2,1)\n",
    "          O_(JB1,LAM2,M1,1) -> O_(JB1,B1,M2,1)\n",
    "      A_JB1,2:\n",
    "          O_(JB1,LAM1,M1,2) -> O_(JB1,B1,M3,1)\n",
    "          O_(JB1,LAM2,M1,2) -> O_(JB1,B1,M3,1)\n",
    "      A_JB2,1:\n",
    "          O_(JB2,LAM1,M1,1) -> O_(JB2,B2,M2,1)"
   ]
  },
  {
   "cell_type": "code",
   "execution_count": 460,
   "id": "3ede19a6",
   "metadata": {},
   "outputs": [],
   "source": [
    "prec = [\n",
    "          [O[0], O[4]],\n",
    "          [O[2], O[4]],\n",
    "          [O[1], O[5]],\n",
    "          [O[3], O[5]],\n",
    "          [O[6], O[7]],\n",
    "]"
   ]
  },
  {
   "attachments": {},
   "cell_type": "markdown",
   "id": "c4793a6d",
   "metadata": {},
   "source": [
    "### 1.15) Costs K\n",
    "\n",
    "1.15.1) K1 = 500 (K0) for both jobs\n",
    "\n",
    "1.15.2) K2 = 100 (K1) for both jobs\n",
    "\n",
    "1.15.3) K3 = 1200 (K2) for all machines\n",
    "\n",
    "1.15.4) K4 = 50 (K3) for all machines"
   ]
  },
  {
   "cell_type": "code",
   "execution_count": 461,
   "id": "19b06517",
   "metadata": {},
   "outputs": [],
   "source": [
    "K1 = 500\n",
    "K2 = 100\n",
    "K3 = 1200\n",
    "K4 = 50"
   ]
  },
  {
   "cell_type": "code",
   "execution_count": 462,
   "id": "599060ab",
   "metadata": {},
   "outputs": [
    {
     "name": "stdout",
     "output_type": "stream",
     "text": [
      "1\n"
     ]
    }
   ],
   "source": [
    "index_of_JB1 = get_index(J,\"JB2\") # ejemplo para obtener el indice de una variable\n",
    "print(index_of_JB1)"
   ]
  },
  {
   "attachments": {},
   "cell_type": "markdown",
   "id": "7087b28c",
   "metadata": {},
   "source": [
    "<h2>2) Variables</h2>"
   ]
  },
  {
   "cell_type": "code",
   "execution_count": 463,
   "id": "a55ff587",
   "metadata": {},
   "outputs": [],
   "source": [
    "x = []  # all variables vector"
   ]
  },
  {
   "attachments": {},
   "cell_type": "markdown",
   "id": "c35cbe18",
   "metadata": {},
   "source": [
    "### 2.1) Start Time: S_jpms (4qb)"
   ]
  },
  {
   "cell_type": "code",
   "execution_count": 464,
   "id": "a3e6c951",
   "metadata": {},
   "outputs": [],
   "source": [
    "S = []\n",
    "for o in O:\n",
    "    S.append(\"S_{\" + get_subindexes(o) + \"}\")"
   ]
  },
  {
   "attachments": {},
   "cell_type": "markdown",
   "id": "0c05c391",
   "metadata": {},
   "source": [
    "2.1.1) qubit digits:\n",
    "\n",
    "    {S_jpms}_q (binary variable) for each q = 0,1,2,3\n",
    "    S_jpms = sum_q ( 2^q * {S_jpms}_q )"
   ]
  },
  {
   "cell_type": "code",
   "execution_count": 465,
   "id": "fef6e9d0",
   "metadata": {},
   "outputs": [],
   "source": [
    "S_q = []\n",
    "for s in S:\n",
    "    for q in range(qb_amount):\n",
    "        S_q.append(s + \"_\" + str(q))\n",
    "\n",
    "x.extend(S_q)"
   ]
  },
  {
   "attachments": {},
   "cell_type": "markdown",
   "id": "93f7ac7c",
   "metadata": {},
   "source": [
    "### 2.2) Time Interval: L_jpms (4qb)"
   ]
  },
  {
   "cell_type": "code",
   "execution_count": 466,
   "id": "a94eca95",
   "metadata": {},
   "outputs": [],
   "source": [
    "L = []\n",
    "for o in O:\n",
    "    L.append(\"L_{\" + get_subindexes(o) + \"}\")"
   ]
  },
  {
   "attachments": {},
   "cell_type": "markdown",
   "id": "1b1eb973",
   "metadata": {},
   "source": [
    "2.2.1) qubit digits:\n",
    "\n",
    "    {L_jpms}_q (binary variable) for each q = 0,1,2,3\n",
    "    L_jpms = sum_q ( 2^q * {L_jpms}_q )"
   ]
  },
  {
   "cell_type": "code",
   "execution_count": 467,
   "id": "2b8ece19",
   "metadata": {},
   "outputs": [],
   "source": [
    "L_q = []\n",
    "for l in L:\n",
    "    for q in range(qb_amount):\n",
    "        L_q.append(l + \"_\" + str(q))\n",
    "\n",
    "x.extend(L_q)"
   ]
  },
  {
   "attachments": {},
   "cell_type": "markdown",
   "id": "c8c3166d",
   "metadata": {},
   "source": [
    "### 2.3) Job finish time / Dummy operation start time:\n",
    "\n",
    "    E_j (4qb)"
   ]
  },
  {
   "cell_type": "code",
   "execution_count": 468,
   "id": "2594af45",
   "metadata": {},
   "outputs": [],
   "source": [
    "E = []\n",
    "for j in J:\n",
    "    E.append(\"E_{\" + str(j) + \"}\")"
   ]
  },
  {
   "attachments": {},
   "cell_type": "markdown",
   "id": "cdbff535",
   "metadata": {},
   "source": [
    "2.3.1) qubit digits:\n",
    "\n",
    "    {E_j}_q (binary variable) for each q = 0,1,2,3\n",
    "      E_JB1 = sum_q ( 2^q * {E_JB1}_q )\n",
    "      E_JB2 = S_(JB2,B2,M2,1) + L_(JB2,B2,M2,1)   ((((DEFINED BY OTHER VARIABLES))))\n"
   ]
  },
  {
   "cell_type": "code",
   "execution_count": 469,
   "id": "803225bd",
   "metadata": {},
   "outputs": [],
   "source": [
    "E_q = []\n",
    "for e in E:\n",
    "    for q in range(qb_amount):\n",
    "        E_q.append(e + \"_\" + str(q))\n",
    "\n",
    "x.extend(E_q)"
   ]
  },
  {
   "attachments": {},
   "cell_type": "markdown",
   "id": "8735a62a",
   "metadata": {},
   "source": [
    "### 2.4) Job excess time:\n",
    "\n",
    "      delta_j^max = E_j - D_j    ((((Not needed, replaceable by E_j -  D_j ))))"
   ]
  },
  {
   "attachments": {},
   "cell_type": "markdown",
   "id": "932576a8",
   "metadata": {},
   "source": [
    "### 2.5) \"On time\" binary variable:\n",
    "\n",
    "      d_j = ( E_j <= D_j )"
   ]
  },
  {
   "cell_type": "code",
   "execution_count": 470,
   "id": "e2ce74e3",
   "metadata": {},
   "outputs": [],
   "source": [
    "d = []\n",
    "for j in J:\n",
    "    d.append(\"d_{\" + str(j) + \"}\")\n",
    "\n",
    "x.extend(d)"
   ]
  },
  {
   "attachments": {},
   "cell_type": "markdown",
   "id": "886099de",
   "metadata": {},
   "source": [
    "### 2.6) Operation not done / discarded / null operation:\n",
    "\n",
    "      bz_jpms = (\"O_jpms discarded\") = (L_jpms == 0)"
   ]
  },
  {
   "cell_type": "code",
   "execution_count": 471,
   "id": "e2cdc271",
   "metadata": {},
   "outputs": [],
   "source": [
    "bz = []\n",
    "for o in O:\n",
    "    bz.append(\"bz_{\" + get_subindexes(o) + \"}\")\n",
    "    \n",
    "x.extend(bz)"
   ]
  },
  {
   "attachments": {},
   "cell_type": "markdown",
   "id": "b1df7418",
   "metadata": {},
   "source": [
    "### 2.7) Null operations amount in machine m:\n",
    "\n",
    "      ntz_m = sum_jps( bz_jpms )      (((always replaceable by the sum)))\n",
    "\n",
    "### 2.8) The X matrix: X^m, for each machine m\n",
    "\n",
    "      X^m_(jpms, k) = (\"O_jpms is done in k-th place in machine m\")\n",
    "      X^M1, 5x5       \n",
    "      X^M2, 2x2\n",
    "      X^M3, 1x1\n",
    "      (((( X^m_(jpms, k) = 0 if k > o_m - ntz_m ))))"
   ]
  },
  {
   "cell_type": "code",
   "execution_count": 472,
   "id": "824eaf42",
   "metadata": {},
   "outputs": [],
   "source": [
    "X = []\n",
    "m_index = 0\n",
    "for m in M:\n",
    "    for k in range(len(OM[m_index])):\n",
    "        for o in OM[m_index]:\n",
    "            X.append(\"X^\" + str(m) + \"_({\" + get_subindexes(o) + \"},\" + str(k+1) + \")\")\n",
    "    m_index += 1\n",
    "\n",
    "x.extend(X)"
   ]
  },
  {
   "attachments": {},
   "cell_type": "markdown",
   "id": "ef38aef8",
   "metadata": {},
   "source": [
    "### 2.9) Null column indicator in X^m matrix\n",
    "\n",
    "      u_mk = ( k <= o_m - ntz_m)"
   ]
  },
  {
   "cell_type": "code",
   "execution_count": 473,
   "id": "8cc73d52",
   "metadata": {},
   "outputs": [],
   "source": [
    "u = []\n",
    "m_index = 0\n",
    "for m in M:\n",
    "    for k in range(len(OM[m_index])):\n",
    "        u.append(\"u_{\" + str(m) + \",\" + str(k+1) + \"}\")\n",
    "    m_index += 1\n",
    "\n",
    "x.extend(u)"
   ]
  },
  {
   "attachments": {},
   "cell_type": "markdown",
   "id": "10a75154",
   "metadata": {},
   "source": [
    "### 2.10) Auxiliary variables for quadratic constraints\n",
    "\n",
    "(*) i and j represents a set of indexes (j,p,m,s) of an operation\n",
    "\n",
    "2.10.1)\n",
    "\n",
    "    y^m_ikq = X^m_(i,k) * {S_i}_q\n",
    "\n",
    "2.10.2)\n",
    "\n",
    "    z^m_ikq = X^m_(i,k) * {L_i}_q"
   ]
  },
  {
   "cell_type": "code",
   "execution_count": 474,
   "id": "3e1372c0",
   "metadata": {},
   "outputs": [],
   "source": [
    "y = []\n",
    "z = []\n",
    "\n",
    "m_index = 0\n",
    "for m in M:\n",
    "    for o in OM[m_index]:\n",
    "        for k in range(len(OM[m_index])):\n",
    "            for q in range(qb_amount):\n",
    "                y.append(\"y^\" + str(m) + \"_({\" + get_subindexes(o) + \"},\" + str(k+1) + \")_\" + str(q))\n",
    "                z.append(\"z^\" + str(m) + \"_({\" + get_subindexes(o) + \"},\" + str(k+1) + \")_\" + str(q))\n",
    "    m_index += 1\n",
    "\n",
    "x.extend(y)\n",
    "x.extend(z)"
   ]
  },
  {
   "attachments": {},
   "cell_type": "markdown",
   "id": "497f212b",
   "metadata": {},
   "source": [
    "2.10.3)\n",
    "\n",
    "    w^m_ijk = X^m_(i,k) * X^m_(j,k+1)"
   ]
  },
  {
   "cell_type": "code",
   "execution_count": 475,
   "id": "f520b7d8",
   "metadata": {},
   "outputs": [
    {
     "name": "stdout",
     "output_type": "stream",
     "text": [
      "104\n",
      "120\n",
      "120\n"
     ]
    }
   ],
   "source": [
    "w = []\n",
    "\n",
    "m_index = 0\n",
    "for m in M:\n",
    "    for o1 in OM[m_index]:\n",
    "        for o2 in OM[m_index]:\n",
    "            if len(OM[m_index])>1 and o1 != o2:\n",
    "                for k in range(len(OM[m_index])):\n",
    "                    w.append(\"w^\" + str(m) + \"_({\" + get_subindexes(o1) + \"},{\" + get_subindexes(o2) + \"},\" + str(k+1) + \")_\" + str(q))\n",
    "    m_index += 1\n",
    "\n",
    "x.extend(w)\n",
    "\n",
    "print(len(w))\n",
    "print(len(y))\n",
    "print(len(z))"
   ]
  },
  {
   "attachments": {},
   "cell_type": "markdown",
   "id": "89448ee3",
   "metadata": {},
   "source": [
    "\n",
    "### 2.11) Slack variables"
   ]
  },
  {
   "cell_type": "code",
   "execution_count": 476,
   "id": "3aff514c",
   "metadata": {},
   "outputs": [
    {
     "name": "stdout",
     "output_type": "stream",
     "text": [
      "['S_{JB1,LAM1,M1,1}_0', 'S_{JB1,LAM1,M1,1}_1', 'S_{JB1,LAM1,M1,1}_2', 'S_{JB1,LAM1,M1,1}_3', 'S_{JB1,LAM1,M1,2}_0', 'S_{JB1,LAM1,M1,2}_1', 'S_{JB1,LAM1,M1,2}_2', 'S_{JB1,LAM1,M1,2}_3', 'S_{JB1,LAM2,M1,1}_0', 'S_{JB1,LAM2,M1,1}_1', 'S_{JB1,LAM2,M1,1}_2', 'S_{JB1,LAM2,M1,1}_3', 'S_{JB1,LAM2,M1,2}_0', 'S_{JB1,LAM2,M1,2}_1', 'S_{JB1,LAM2,M1,2}_2', 'S_{JB1,LAM2,M1,2}_3', 'S_{JB1,B1,M2}_0', 'S_{JB1,B1,M2}_1', 'S_{JB1,B1,M2}_2', 'S_{JB1,B1,M2}_3', 'S_{JB1,B1,M3}_0', 'S_{JB1,B1,M3}_1', 'S_{JB1,B1,M3}_2', 'S_{JB1,B1,M3}_3', 'S_{JB2,LAM1,M1}_0', 'S_{JB2,LAM1,M1}_1', 'S_{JB2,LAM1,M1}_2', 'S_{JB2,LAM1,M1}_3', 'S_{JB2,B2,M2}_0', 'S_{JB2,B2,M2}_1', 'S_{JB2,B2,M2}_2', 'S_{JB2,B2,M2}_3', 'L_{JB1,LAM1,M1,1}_0', 'L_{JB1,LAM1,M1,1}_1', 'L_{JB1,LAM1,M1,1}_2', 'L_{JB1,LAM1,M1,1}_3', 'L_{JB1,LAM1,M1,2}_0', 'L_{JB1,LAM1,M1,2}_1', 'L_{JB1,LAM1,M1,2}_2', 'L_{JB1,LAM1,M1,2}_3', 'L_{JB1,LAM2,M1,1}_0', 'L_{JB1,LAM2,M1,1}_1', 'L_{JB1,LAM2,M1,1}_2', 'L_{JB1,LAM2,M1,1}_3', 'L_{JB1,LAM2,M1,2}_0', 'L_{JB1,LAM2,M1,2}_1', 'L_{JB1,LAM2,M1,2}_2', 'L_{JB1,LAM2,M1,2}_3', 'L_{JB1,B1,M2}_0', 'L_{JB1,B1,M2}_1', 'L_{JB1,B1,M2}_2', 'L_{JB1,B1,M2}_3', 'L_{JB1,B1,M3}_0', 'L_{JB1,B1,M3}_1', 'L_{JB1,B1,M3}_2', 'L_{JB1,B1,M3}_3', 'L_{JB2,LAM1,M1}_0', 'L_{JB2,LAM1,M1}_1', 'L_{JB2,LAM1,M1}_2', 'L_{JB2,LAM1,M1}_3', 'L_{JB2,B2,M2}_0', 'L_{JB2,B2,M2}_1', 'L_{JB2,B2,M2}_2', 'L_{JB2,B2,M2}_3', 'E_{JB1}_0', 'E_{JB1}_1', 'E_{JB1}_2', 'E_{JB1}_3', 'E_{JB2}_0', 'E_{JB2}_1', 'E_{JB2}_2', 'E_{JB2}_3', 'd_{JB1}', 'd_{JB2}', 'bz_{JB1,LAM1,M1,1}', 'bz_{JB1,LAM1,M1,2}', 'bz_{JB1,LAM2,M1,1}', 'bz_{JB1,LAM2,M1,2}', 'bz_{JB1,B1,M2}', 'bz_{JB1,B1,M3}', 'bz_{JB2,LAM1,M1}', 'bz_{JB2,B2,M2}', 'X^M1_({JB1,LAM1,M1,1},1)', 'X^M1_({JB1,LAM1,M1,2},1)', 'X^M1_({JB1,LAM2,M1,1},1)', 'X^M1_({JB1,LAM2,M1,2},1)', 'X^M1_({JB2,LAM1,M1},1)', 'X^M1_({JB1,LAM1,M1,1},2)', 'X^M1_({JB1,LAM1,M1,2},2)', 'X^M1_({JB1,LAM2,M1,1},2)', 'X^M1_({JB1,LAM2,M1,2},2)', 'X^M1_({JB2,LAM1,M1},2)', 'X^M1_({JB1,LAM1,M1,1},3)', 'X^M1_({JB1,LAM1,M1,2},3)', 'X^M1_({JB1,LAM2,M1,1},3)', 'X^M1_({JB1,LAM2,M1,2},3)', 'X^M1_({JB2,LAM1,M1},3)', 'X^M1_({JB1,LAM1,M1,1},4)', 'X^M1_({JB1,LAM1,M1,2},4)', 'X^M1_({JB1,LAM2,M1,1},4)', 'X^M1_({JB1,LAM2,M1,2},4)', 'X^M1_({JB2,LAM1,M1},4)', 'X^M1_({JB1,LAM1,M1,1},5)', 'X^M1_({JB1,LAM1,M1,2},5)', 'X^M1_({JB1,LAM2,M1,1},5)', 'X^M1_({JB1,LAM2,M1,2},5)', 'X^M1_({JB2,LAM1,M1},5)', 'X^M2_({JB1,B1,M2},1)', 'X^M2_({JB2,B2,M2},1)', 'X^M2_({JB1,B1,M2},2)', 'X^M2_({JB2,B2,M2},2)', 'X^M3_({JB1,B1,M3},1)', 'u_{M1,1}', 'u_{M1,2}', 'u_{M1,3}', 'u_{M1,4}', 'u_{M1,5}', 'u_{M2,1}', 'u_{M2,2}', 'u_{M3,1}', 'y^M1_({JB1,LAM1,M1,1},1)_0', 'y^M1_({JB1,LAM1,M1,1},1)_1', 'y^M1_({JB1,LAM1,M1,1},1)_2', 'y^M1_({JB1,LAM1,M1,1},1)_3', 'y^M1_({JB1,LAM1,M1,1},2)_0', 'y^M1_({JB1,LAM1,M1,1},2)_1', 'y^M1_({JB1,LAM1,M1,1},2)_2', 'y^M1_({JB1,LAM1,M1,1},2)_3', 'y^M1_({JB1,LAM1,M1,1},3)_0', 'y^M1_({JB1,LAM1,M1,1},3)_1', 'y^M1_({JB1,LAM1,M1,1},3)_2', 'y^M1_({JB1,LAM1,M1,1},3)_3', 'y^M1_({JB1,LAM1,M1,1},4)_0', 'y^M1_({JB1,LAM1,M1,1},4)_1', 'y^M1_({JB1,LAM1,M1,1},4)_2', 'y^M1_({JB1,LAM1,M1,1},4)_3', 'y^M1_({JB1,LAM1,M1,1},5)_0', 'y^M1_({JB1,LAM1,M1,1},5)_1', 'y^M1_({JB1,LAM1,M1,1},5)_2', 'y^M1_({JB1,LAM1,M1,1},5)_3', 'y^M1_({JB1,LAM1,M1,2},1)_0', 'y^M1_({JB1,LAM1,M1,2},1)_1', 'y^M1_({JB1,LAM1,M1,2},1)_2', 'y^M1_({JB1,LAM1,M1,2},1)_3', 'y^M1_({JB1,LAM1,M1,2},2)_0', 'y^M1_({JB1,LAM1,M1,2},2)_1', 'y^M1_({JB1,LAM1,M1,2},2)_2', 'y^M1_({JB1,LAM1,M1,2},2)_3', 'y^M1_({JB1,LAM1,M1,2},3)_0', 'y^M1_({JB1,LAM1,M1,2},3)_1', 'y^M1_({JB1,LAM1,M1,2},3)_2', 'y^M1_({JB1,LAM1,M1,2},3)_3', 'y^M1_({JB1,LAM1,M1,2},4)_0', 'y^M1_({JB1,LAM1,M1,2},4)_1', 'y^M1_({JB1,LAM1,M1,2},4)_2', 'y^M1_({JB1,LAM1,M1,2},4)_3', 'y^M1_({JB1,LAM1,M1,2},5)_0', 'y^M1_({JB1,LAM1,M1,2},5)_1', 'y^M1_({JB1,LAM1,M1,2},5)_2', 'y^M1_({JB1,LAM1,M1,2},5)_3', 'y^M1_({JB1,LAM2,M1,1},1)_0', 'y^M1_({JB1,LAM2,M1,1},1)_1', 'y^M1_({JB1,LAM2,M1,1},1)_2', 'y^M1_({JB1,LAM2,M1,1},1)_3', 'y^M1_({JB1,LAM2,M1,1},2)_0', 'y^M1_({JB1,LAM2,M1,1},2)_1', 'y^M1_({JB1,LAM2,M1,1},2)_2', 'y^M1_({JB1,LAM2,M1,1},2)_3', 'y^M1_({JB1,LAM2,M1,1},3)_0', 'y^M1_({JB1,LAM2,M1,1},3)_1', 'y^M1_({JB1,LAM2,M1,1},3)_2', 'y^M1_({JB1,LAM2,M1,1},3)_3', 'y^M1_({JB1,LAM2,M1,1},4)_0', 'y^M1_({JB1,LAM2,M1,1},4)_1', 'y^M1_({JB1,LAM2,M1,1},4)_2', 'y^M1_({JB1,LAM2,M1,1},4)_3', 'y^M1_({JB1,LAM2,M1,1},5)_0', 'y^M1_({JB1,LAM2,M1,1},5)_1', 'y^M1_({JB1,LAM2,M1,1},5)_2', 'y^M1_({JB1,LAM2,M1,1},5)_3', 'y^M1_({JB1,LAM2,M1,2},1)_0', 'y^M1_({JB1,LAM2,M1,2},1)_1', 'y^M1_({JB1,LAM2,M1,2},1)_2', 'y^M1_({JB1,LAM2,M1,2},1)_3', 'y^M1_({JB1,LAM2,M1,2},2)_0', 'y^M1_({JB1,LAM2,M1,2},2)_1', 'y^M1_({JB1,LAM2,M1,2},2)_2', 'y^M1_({JB1,LAM2,M1,2},2)_3', 'y^M1_({JB1,LAM2,M1,2},3)_0', 'y^M1_({JB1,LAM2,M1,2},3)_1', 'y^M1_({JB1,LAM2,M1,2},3)_2', 'y^M1_({JB1,LAM2,M1,2},3)_3', 'y^M1_({JB1,LAM2,M1,2},4)_0', 'y^M1_({JB1,LAM2,M1,2},4)_1', 'y^M1_({JB1,LAM2,M1,2},4)_2', 'y^M1_({JB1,LAM2,M1,2},4)_3', 'y^M1_({JB1,LAM2,M1,2},5)_0', 'y^M1_({JB1,LAM2,M1,2},5)_1', 'y^M1_({JB1,LAM2,M1,2},5)_2', 'y^M1_({JB1,LAM2,M1,2},5)_3', 'y^M1_({JB2,LAM1,M1},1)_0', 'y^M1_({JB2,LAM1,M1},1)_1', 'y^M1_({JB2,LAM1,M1},1)_2', 'y^M1_({JB2,LAM1,M1},1)_3', 'y^M1_({JB2,LAM1,M1},2)_0', 'y^M1_({JB2,LAM1,M1},2)_1', 'y^M1_({JB2,LAM1,M1},2)_2', 'y^M1_({JB2,LAM1,M1},2)_3', 'y^M1_({JB2,LAM1,M1},3)_0', 'y^M1_({JB2,LAM1,M1},3)_1', 'y^M1_({JB2,LAM1,M1},3)_2', 'y^M1_({JB2,LAM1,M1},3)_3', 'y^M1_({JB2,LAM1,M1},4)_0', 'y^M1_({JB2,LAM1,M1},4)_1', 'y^M1_({JB2,LAM1,M1},4)_2', 'y^M1_({JB2,LAM1,M1},4)_3', 'y^M1_({JB2,LAM1,M1},5)_0', 'y^M1_({JB2,LAM1,M1},5)_1', 'y^M1_({JB2,LAM1,M1},5)_2', 'y^M1_({JB2,LAM1,M1},5)_3', 'y^M2_({JB1,B1,M2},1)_0', 'y^M2_({JB1,B1,M2},1)_1', 'y^M2_({JB1,B1,M2},1)_2', 'y^M2_({JB1,B1,M2},1)_3', 'y^M2_({JB1,B1,M2},2)_0', 'y^M2_({JB1,B1,M2},2)_1', 'y^M2_({JB1,B1,M2},2)_2', 'y^M2_({JB1,B1,M2},2)_3', 'y^M2_({JB2,B2,M2},1)_0', 'y^M2_({JB2,B2,M2},1)_1', 'y^M2_({JB2,B2,M2},1)_2', 'y^M2_({JB2,B2,M2},1)_3', 'y^M2_({JB2,B2,M2},2)_0', 'y^M2_({JB2,B2,M2},2)_1', 'y^M2_({JB2,B2,M2},2)_2', 'y^M2_({JB2,B2,M2},2)_3', 'y^M3_({JB1,B1,M3},1)_0', 'y^M3_({JB1,B1,M3},1)_1', 'y^M3_({JB1,B1,M3},1)_2', 'y^M3_({JB1,B1,M3},1)_3', 'z^M1_({JB1,LAM1,M1,1},1)_0', 'z^M1_({JB1,LAM1,M1,1},1)_1', 'z^M1_({JB1,LAM1,M1,1},1)_2', 'z^M1_({JB1,LAM1,M1,1},1)_3', 'z^M1_({JB1,LAM1,M1,1},2)_0', 'z^M1_({JB1,LAM1,M1,1},2)_1', 'z^M1_({JB1,LAM1,M1,1},2)_2', 'z^M1_({JB1,LAM1,M1,1},2)_3', 'z^M1_({JB1,LAM1,M1,1},3)_0', 'z^M1_({JB1,LAM1,M1,1},3)_1', 'z^M1_({JB1,LAM1,M1,1},3)_2', 'z^M1_({JB1,LAM1,M1,1},3)_3', 'z^M1_({JB1,LAM1,M1,1},4)_0', 'z^M1_({JB1,LAM1,M1,1},4)_1', 'z^M1_({JB1,LAM1,M1,1},4)_2', 'z^M1_({JB1,LAM1,M1,1},4)_3', 'z^M1_({JB1,LAM1,M1,1},5)_0', 'z^M1_({JB1,LAM1,M1,1},5)_1', 'z^M1_({JB1,LAM1,M1,1},5)_2', 'z^M1_({JB1,LAM1,M1,1},5)_3', 'z^M1_({JB1,LAM1,M1,2},1)_0', 'z^M1_({JB1,LAM1,M1,2},1)_1', 'z^M1_({JB1,LAM1,M1,2},1)_2', 'z^M1_({JB1,LAM1,M1,2},1)_3', 'z^M1_({JB1,LAM1,M1,2},2)_0', 'z^M1_({JB1,LAM1,M1,2},2)_1', 'z^M1_({JB1,LAM1,M1,2},2)_2', 'z^M1_({JB1,LAM1,M1,2},2)_3', 'z^M1_({JB1,LAM1,M1,2},3)_0', 'z^M1_({JB1,LAM1,M1,2},3)_1', 'z^M1_({JB1,LAM1,M1,2},3)_2', 'z^M1_({JB1,LAM1,M1,2},3)_3', 'z^M1_({JB1,LAM1,M1,2},4)_0', 'z^M1_({JB1,LAM1,M1,2},4)_1', 'z^M1_({JB1,LAM1,M1,2},4)_2', 'z^M1_({JB1,LAM1,M1,2},4)_3', 'z^M1_({JB1,LAM1,M1,2},5)_0', 'z^M1_({JB1,LAM1,M1,2},5)_1', 'z^M1_({JB1,LAM1,M1,2},5)_2', 'z^M1_({JB1,LAM1,M1,2},5)_3', 'z^M1_({JB1,LAM2,M1,1},1)_0', 'z^M1_({JB1,LAM2,M1,1},1)_1', 'z^M1_({JB1,LAM2,M1,1},1)_2', 'z^M1_({JB1,LAM2,M1,1},1)_3', 'z^M1_({JB1,LAM2,M1,1},2)_0', 'z^M1_({JB1,LAM2,M1,1},2)_1', 'z^M1_({JB1,LAM2,M1,1},2)_2', 'z^M1_({JB1,LAM2,M1,1},2)_3', 'z^M1_({JB1,LAM2,M1,1},3)_0', 'z^M1_({JB1,LAM2,M1,1},3)_1', 'z^M1_({JB1,LAM2,M1,1},3)_2', 'z^M1_({JB1,LAM2,M1,1},3)_3', 'z^M1_({JB1,LAM2,M1,1},4)_0', 'z^M1_({JB1,LAM2,M1,1},4)_1', 'z^M1_({JB1,LAM2,M1,1},4)_2', 'z^M1_({JB1,LAM2,M1,1},4)_3', 'z^M1_({JB1,LAM2,M1,1},5)_0', 'z^M1_({JB1,LAM2,M1,1},5)_1', 'z^M1_({JB1,LAM2,M1,1},5)_2', 'z^M1_({JB1,LAM2,M1,1},5)_3', 'z^M1_({JB1,LAM2,M1,2},1)_0', 'z^M1_({JB1,LAM2,M1,2},1)_1', 'z^M1_({JB1,LAM2,M1,2},1)_2', 'z^M1_({JB1,LAM2,M1,2},1)_3', 'z^M1_({JB1,LAM2,M1,2},2)_0', 'z^M1_({JB1,LAM2,M1,2},2)_1', 'z^M1_({JB1,LAM2,M1,2},2)_2', 'z^M1_({JB1,LAM2,M1,2},2)_3', 'z^M1_({JB1,LAM2,M1,2},3)_0', 'z^M1_({JB1,LAM2,M1,2},3)_1', 'z^M1_({JB1,LAM2,M1,2},3)_2', 'z^M1_({JB1,LAM2,M1,2},3)_3', 'z^M1_({JB1,LAM2,M1,2},4)_0', 'z^M1_({JB1,LAM2,M1,2},4)_1', 'z^M1_({JB1,LAM2,M1,2},4)_2', 'z^M1_({JB1,LAM2,M1,2},4)_3', 'z^M1_({JB1,LAM2,M1,2},5)_0', 'z^M1_({JB1,LAM2,M1,2},5)_1', 'z^M1_({JB1,LAM2,M1,2},5)_2', 'z^M1_({JB1,LAM2,M1,2},5)_3', 'z^M1_({JB2,LAM1,M1},1)_0', 'z^M1_({JB2,LAM1,M1},1)_1', 'z^M1_({JB2,LAM1,M1},1)_2', 'z^M1_({JB2,LAM1,M1},1)_3', 'z^M1_({JB2,LAM1,M1},2)_0', 'z^M1_({JB2,LAM1,M1},2)_1', 'z^M1_({JB2,LAM1,M1},2)_2', 'z^M1_({JB2,LAM1,M1},2)_3', 'z^M1_({JB2,LAM1,M1},3)_0', 'z^M1_({JB2,LAM1,M1},3)_1', 'z^M1_({JB2,LAM1,M1},3)_2', 'z^M1_({JB2,LAM1,M1},3)_3', 'z^M1_({JB2,LAM1,M1},4)_0', 'z^M1_({JB2,LAM1,M1},4)_1', 'z^M1_({JB2,LAM1,M1},4)_2', 'z^M1_({JB2,LAM1,M1},4)_3', 'z^M1_({JB2,LAM1,M1},5)_0', 'z^M1_({JB2,LAM1,M1},5)_1', 'z^M1_({JB2,LAM1,M1},5)_2', 'z^M1_({JB2,LAM1,M1},5)_3', 'z^M2_({JB1,B1,M2},1)_0', 'z^M2_({JB1,B1,M2},1)_1', 'z^M2_({JB1,B1,M2},1)_2', 'z^M2_({JB1,B1,M2},1)_3', 'z^M2_({JB1,B1,M2},2)_0', 'z^M2_({JB1,B1,M2},2)_1', 'z^M2_({JB1,B1,M2},2)_2', 'z^M2_({JB1,B1,M2},2)_3', 'z^M2_({JB2,B2,M2},1)_0', 'z^M2_({JB2,B2,M2},1)_1', 'z^M2_({JB2,B2,M2},1)_2', 'z^M2_({JB2,B2,M2},1)_3', 'z^M2_({JB2,B2,M2},2)_0', 'z^M2_({JB2,B2,M2},2)_1', 'z^M2_({JB2,B2,M2},2)_2', 'z^M2_({JB2,B2,M2},2)_3', 'z^M3_({JB1,B1,M3},1)_0', 'z^M3_({JB1,B1,M3},1)_1', 'z^M3_({JB1,B1,M3},1)_2', 'z^M3_({JB1,B1,M3},1)_3', 'w^M1_({JB1,LAM1,M1,1},{JB1,LAM1,M1,2},1)_3', 'w^M1_({JB1,LAM1,M1,1},{JB1,LAM1,M1,2},2)_3', 'w^M1_({JB1,LAM1,M1,1},{JB1,LAM1,M1,2},3)_3', 'w^M1_({JB1,LAM1,M1,1},{JB1,LAM1,M1,2},4)_3', 'w^M1_({JB1,LAM1,M1,1},{JB1,LAM1,M1,2},5)_3', 'w^M1_({JB1,LAM1,M1,1},{JB1,LAM2,M1,1},1)_3', 'w^M1_({JB1,LAM1,M1,1},{JB1,LAM2,M1,1},2)_3', 'w^M1_({JB1,LAM1,M1,1},{JB1,LAM2,M1,1},3)_3', 'w^M1_({JB1,LAM1,M1,1},{JB1,LAM2,M1,1},4)_3', 'w^M1_({JB1,LAM1,M1,1},{JB1,LAM2,M1,1},5)_3', 'w^M1_({JB1,LAM1,M1,1},{JB1,LAM2,M1,2},1)_3', 'w^M1_({JB1,LAM1,M1,1},{JB1,LAM2,M1,2},2)_3', 'w^M1_({JB1,LAM1,M1,1},{JB1,LAM2,M1,2},3)_3', 'w^M1_({JB1,LAM1,M1,1},{JB1,LAM2,M1,2},4)_3', 'w^M1_({JB1,LAM1,M1,1},{JB1,LAM2,M1,2},5)_3', 'w^M1_({JB1,LAM1,M1,1},{JB2,LAM1,M1},1)_3', 'w^M1_({JB1,LAM1,M1,1},{JB2,LAM1,M1},2)_3', 'w^M1_({JB1,LAM1,M1,1},{JB2,LAM1,M1},3)_3', 'w^M1_({JB1,LAM1,M1,1},{JB2,LAM1,M1},4)_3', 'w^M1_({JB1,LAM1,M1,1},{JB2,LAM1,M1},5)_3', 'w^M1_({JB1,LAM1,M1,2},{JB1,LAM1,M1,1},1)_3', 'w^M1_({JB1,LAM1,M1,2},{JB1,LAM1,M1,1},2)_3', 'w^M1_({JB1,LAM1,M1,2},{JB1,LAM1,M1,1},3)_3', 'w^M1_({JB1,LAM1,M1,2},{JB1,LAM1,M1,1},4)_3', 'w^M1_({JB1,LAM1,M1,2},{JB1,LAM1,M1,1},5)_3', 'w^M1_({JB1,LAM1,M1,2},{JB1,LAM2,M1,1},1)_3', 'w^M1_({JB1,LAM1,M1,2},{JB1,LAM2,M1,1},2)_3', 'w^M1_({JB1,LAM1,M1,2},{JB1,LAM2,M1,1},3)_3', 'w^M1_({JB1,LAM1,M1,2},{JB1,LAM2,M1,1},4)_3', 'w^M1_({JB1,LAM1,M1,2},{JB1,LAM2,M1,1},5)_3', 'w^M1_({JB1,LAM1,M1,2},{JB1,LAM2,M1,2},1)_3', 'w^M1_({JB1,LAM1,M1,2},{JB1,LAM2,M1,2},2)_3', 'w^M1_({JB1,LAM1,M1,2},{JB1,LAM2,M1,2},3)_3', 'w^M1_({JB1,LAM1,M1,2},{JB1,LAM2,M1,2},4)_3', 'w^M1_({JB1,LAM1,M1,2},{JB1,LAM2,M1,2},5)_3', 'w^M1_({JB1,LAM1,M1,2},{JB2,LAM1,M1},1)_3', 'w^M1_({JB1,LAM1,M1,2},{JB2,LAM1,M1},2)_3', 'w^M1_({JB1,LAM1,M1,2},{JB2,LAM1,M1},3)_3', 'w^M1_({JB1,LAM1,M1,2},{JB2,LAM1,M1},4)_3', 'w^M1_({JB1,LAM1,M1,2},{JB2,LAM1,M1},5)_3', 'w^M1_({JB1,LAM2,M1,1},{JB1,LAM1,M1,1},1)_3', 'w^M1_({JB1,LAM2,M1,1},{JB1,LAM1,M1,1},2)_3', 'w^M1_({JB1,LAM2,M1,1},{JB1,LAM1,M1,1},3)_3', 'w^M1_({JB1,LAM2,M1,1},{JB1,LAM1,M1,1},4)_3', 'w^M1_({JB1,LAM2,M1,1},{JB1,LAM1,M1,1},5)_3', 'w^M1_({JB1,LAM2,M1,1},{JB1,LAM1,M1,2},1)_3', 'w^M1_({JB1,LAM2,M1,1},{JB1,LAM1,M1,2},2)_3', 'w^M1_({JB1,LAM2,M1,1},{JB1,LAM1,M1,2},3)_3', 'w^M1_({JB1,LAM2,M1,1},{JB1,LAM1,M1,2},4)_3', 'w^M1_({JB1,LAM2,M1,1},{JB1,LAM1,M1,2},5)_3', 'w^M1_({JB1,LAM2,M1,1},{JB1,LAM2,M1,2},1)_3', 'w^M1_({JB1,LAM2,M1,1},{JB1,LAM2,M1,2},2)_3', 'w^M1_({JB1,LAM2,M1,1},{JB1,LAM2,M1,2},3)_3', 'w^M1_({JB1,LAM2,M1,1},{JB1,LAM2,M1,2},4)_3', 'w^M1_({JB1,LAM2,M1,1},{JB1,LAM2,M1,2},5)_3', 'w^M1_({JB1,LAM2,M1,1},{JB2,LAM1,M1},1)_3', 'w^M1_({JB1,LAM2,M1,1},{JB2,LAM1,M1},2)_3', 'w^M1_({JB1,LAM2,M1,1},{JB2,LAM1,M1},3)_3', 'w^M1_({JB1,LAM2,M1,1},{JB2,LAM1,M1},4)_3', 'w^M1_({JB1,LAM2,M1,1},{JB2,LAM1,M1},5)_3', 'w^M1_({JB1,LAM2,M1,2},{JB1,LAM1,M1,1},1)_3', 'w^M1_({JB1,LAM2,M1,2},{JB1,LAM1,M1,1},2)_3', 'w^M1_({JB1,LAM2,M1,2},{JB1,LAM1,M1,1},3)_3', 'w^M1_({JB1,LAM2,M1,2},{JB1,LAM1,M1,1},4)_3', 'w^M1_({JB1,LAM2,M1,2},{JB1,LAM1,M1,1},5)_3', 'w^M1_({JB1,LAM2,M1,2},{JB1,LAM1,M1,2},1)_3', 'w^M1_({JB1,LAM2,M1,2},{JB1,LAM1,M1,2},2)_3', 'w^M1_({JB1,LAM2,M1,2},{JB1,LAM1,M1,2},3)_3', 'w^M1_({JB1,LAM2,M1,2},{JB1,LAM1,M1,2},4)_3', 'w^M1_({JB1,LAM2,M1,2},{JB1,LAM1,M1,2},5)_3', 'w^M1_({JB1,LAM2,M1,2},{JB1,LAM2,M1,1},1)_3', 'w^M1_({JB1,LAM2,M1,2},{JB1,LAM2,M1,1},2)_3', 'w^M1_({JB1,LAM2,M1,2},{JB1,LAM2,M1,1},3)_3', 'w^M1_({JB1,LAM2,M1,2},{JB1,LAM2,M1,1},4)_3', 'w^M1_({JB1,LAM2,M1,2},{JB1,LAM2,M1,1},5)_3', 'w^M1_({JB1,LAM2,M1,2},{JB2,LAM1,M1},1)_3', 'w^M1_({JB1,LAM2,M1,2},{JB2,LAM1,M1},2)_3', 'w^M1_({JB1,LAM2,M1,2},{JB2,LAM1,M1},3)_3', 'w^M1_({JB1,LAM2,M1,2},{JB2,LAM1,M1},4)_3', 'w^M1_({JB1,LAM2,M1,2},{JB2,LAM1,M1},5)_3', 'w^M1_({JB2,LAM1,M1},{JB1,LAM1,M1,1},1)_3', 'w^M1_({JB2,LAM1,M1},{JB1,LAM1,M1,1},2)_3', 'w^M1_({JB2,LAM1,M1},{JB1,LAM1,M1,1},3)_3', 'w^M1_({JB2,LAM1,M1},{JB1,LAM1,M1,1},4)_3', 'w^M1_({JB2,LAM1,M1},{JB1,LAM1,M1,1},5)_3', 'w^M1_({JB2,LAM1,M1},{JB1,LAM1,M1,2},1)_3', 'w^M1_({JB2,LAM1,M1},{JB1,LAM1,M1,2},2)_3', 'w^M1_({JB2,LAM1,M1},{JB1,LAM1,M1,2},3)_3', 'w^M1_({JB2,LAM1,M1},{JB1,LAM1,M1,2},4)_3', 'w^M1_({JB2,LAM1,M1},{JB1,LAM1,M1,2},5)_3', 'w^M1_({JB2,LAM1,M1},{JB1,LAM2,M1,1},1)_3', 'w^M1_({JB2,LAM1,M1},{JB1,LAM2,M1,1},2)_3', 'w^M1_({JB2,LAM1,M1},{JB1,LAM2,M1,1},3)_3', 'w^M1_({JB2,LAM1,M1},{JB1,LAM2,M1,1},4)_3', 'w^M1_({JB2,LAM1,M1},{JB1,LAM2,M1,1},5)_3', 'w^M1_({JB2,LAM1,M1},{JB1,LAM2,M1,2},1)_3', 'w^M1_({JB2,LAM1,M1},{JB1,LAM2,M1,2},2)_3', 'w^M1_({JB2,LAM1,M1},{JB1,LAM2,M1,2},3)_3', 'w^M1_({JB2,LAM1,M1},{JB1,LAM2,M1,2},4)_3', 'w^M1_({JB2,LAM1,M1},{JB1,LAM2,M1,2},5)_3', 'w^M2_({JB1,B1,M2},{JB2,B2,M2},1)_3', 'w^M2_({JB1,B1,M2},{JB2,B2,M2},2)_3', 'w^M2_({JB2,B2,M2},{JB1,B1,M2},1)_3', 'w^M2_({JB2,B2,M2},{JB1,B1,M2},2)_3', 'slack_1_1_1_0', 'slack_1_1_1_1', 'slack_1_1_1_2', 'slack_1_1_1_3', 'slack_1_1_1_4', 'slack_1_1_2_0', 'slack_1_1_2_1', 'slack_1_1_2_2', 'slack_1_1_2_3', 'slack_1_1_2_4', 'slack_1_1_3_0', 'slack_1_1_3_1', 'slack_1_1_3_2', 'slack_1_1_3_3', 'slack_1_2_JB1_0', 'slack_1_2_JB1_1', 'slack_1_2_JB1_2', 'slack_1_2_JB1_3', 'slack_1_2_JB1_4', 'slack_1_2_JB2_0', 'slack_1_2_JB2_1', 'slack_1_2_JB2_2', 'slack_1_2_JB2_3', 'slack_2_L_{JB1,LAM1,M1,1}_0', 'slack_2_L_{JB1,LAM1,M1,1}_1', 'slack_2_L_{JB1,LAM1,M1,1}_2', 'slack_2_L_{JB1,LAM1,M1,1}_3', 'slack_2_L_{JB1,LAM1,M1,2}_0', 'slack_2_L_{JB1,LAM1,M1,2}_1', 'slack_2_L_{JB1,LAM1,M1,2}_2', 'slack_2_L_{JB1,LAM1,M1,2}_3', 'slack_2_L_{JB1,LAM2,M1,1}_0', 'slack_2_L_{JB1,LAM2,M1,1}_1', 'slack_2_L_{JB1,LAM2,M1,1}_2', 'slack_2_L_{JB1,LAM2,M1,1}_3', 'slack_2_L_{JB1,LAM2,M1,2}_0', 'slack_2_L_{JB1,LAM2,M1,2}_1', 'slack_2_L_{JB1,LAM2,M1,2}_2', 'slack_2_L_{JB1,LAM2,M1,2}_3', 'slack_2_L_{JB1,B1,M2}_0', 'slack_2_L_{JB1,B1,M2}_1', 'slack_2_L_{JB1,B1,M2}_2', 'slack_2_L_{JB1,B1,M2}_3', 'slack_2_L_{JB1,B1,M3}_0', 'slack_2_L_{JB1,B1,M3}_1', 'slack_2_L_{JB1,B1,M3}_2', 'slack_2_L_{JB1,B1,M3}_3', 'slack_2_L_{JB2,LAM1,M1}_0', 'slack_2_L_{JB2,LAM1,M1}_1', 'slack_2_L_{JB2,LAM1,M1}_2', 'slack_2_L_{JB2,LAM1,M1}_3', 'slack_2_L_{JB2,B2,M2}_0', 'slack_2_L_{JB2,B2,M2}_1', 'slack_2_L_{JB2,B2,M2}_2', 'slack_2_L_{JB2,B2,M2}_3']\n",
      "519\n"
     ]
    }
   ],
   "source": [
    "for q in range(qb_amount + 1):\n",
    "    x.append(\"slack_1_1_1_\" + str(q))\n",
    "for q in range(qb_amount + 1):\n",
    "    x.append(\"slack_1_1_2_\" + str(q))\n",
    "for q in range(qb_amount):\n",
    "    x.append(\"slack_1_1_3_\" + str(q))\n",
    "\n",
    "for q in range(qb_amount + 1):  # slack de 5qb\n",
    "    x.append(\"slack_1_2_\" + J[0] + \"_\" + str(q))\n",
    "for q in range(qb_amount):  # slack de 4qb\n",
    "    x.append(\"slack_1_2_\" + J[1] + \"_\" + str(q))\n",
    "\n",
    "for l_q in L_q:\n",
    "    x.append(\"slack_2_\" + l_q)\n",
    "\n",
    "print(x)\n",
    "print(len(x))\n"
   ]
  },
  {
   "attachments": {},
   "cell_type": "markdown",
   "id": "a1464a33",
   "metadata": {},
   "source": [
    "## 3) Cost (Objective Function OF)\n",
    "\n",
    "minimize 3.1) + 3.2) + 3.3) = \n",
    "\n",
    "        sum_jpms( (1 - bz_jpms)*(K3_m + K4_m*L_jpms) ) +\n",
    "        sum_mk,jps,j'i's' ( X^m_jps,k-1 * TC^m_i,i' * X^m_j'i's',k ) +\n",
    "        sum_j( (1 - d_j) * ( K1_j + K2_j*(E_j - D_j) ) )"
   ]
  },
  {
   "cell_type": "code",
   "execution_count": 477,
   "id": "9cf6f211",
   "metadata": {},
   "outputs": [],
   "source": [
    "#initializar matriz Q\n",
    "Q = np.zeros((len(x), len(x)))"
   ]
  },
  {
   "attachments": {},
   "cell_type": "markdown",
   "id": "cb089e6f",
   "metadata": {},
   "source": [
    "\n",
    "<h3>3.1) production cost</h3>\n"
   ]
  },
  {
   "cell_type": "code",
   "execution_count": 478,
   "id": "49c091bc",
   "metadata": {},
   "outputs": [],
   "source": [
    "Q_FO1 = [] # lista de indices y valor a sumar, ejemplo: [[1,2,16], [1,1,31], [4,3,-10]]\n",
    "# para cada valor nuevo de Q para la dupla de variables i,j se agrega a la lista de Q_FO1 con add_Q_value(x, q_list, i, j, value)\n"
   ]
  },
  {
   "attachments": {},
   "cell_type": "markdown",
   "id": "da6fe429",
   "metadata": {},
   "source": [
    "$$\\sum_{jpms}( (1 - bz_{jpms})*(K3_m + K4_m*\\sum_{q}(2^q*{L_{jpms}}_q)) ) = $$\n",
    "\n",
    "  sum_jpms {\n",
    "\n",
    "      K3_m                   //constant, NOT CONSIDERED IN THE OF\n",
    "\n",
    "    }\n",
    "\n",
    "  \\+ sum_jpms {\n",
    "\n",
    "      - K3_m * bz_jpms\n",
    "\n",
    "    }\n",
    "    \n",
    "      -> Q_{bz_jpms, bz_jpms} = - K3_m         for all operation jpms"
   ]
  },
  {
   "cell_type": "code",
   "execution_count": 479,
   "id": "526bf3ef",
   "metadata": {},
   "outputs": [],
   "source": [
    "for var in bz:\n",
    "    add_Q_value(x, Q_FO1, var, var, -K3)"
   ]
  },
  {
   "attachments": {},
   "cell_type": "markdown",
   "id": "a9b4a44f",
   "metadata": {},
   "source": [
    "\\+ sum_jpmsq {\n",
    "  \n",
    "    K4_m * 2^q * {L_jpms}_q\n",
    "\n",
    "  }\n",
    "  \n",
    "    -> Q_{L_jpms_q, L_jpms_q} = K4_m * 2^q         for all operation jpms, and bit q\n"
   ]
  },
  {
   "cell_type": "code",
   "execution_count": 480,
   "id": "198151f5",
   "metadata": {},
   "outputs": [],
   "source": [
    "# for lq in L_q:\n",
    "#     add_Q_value(x, Q_FO1, lq, lq, K4 * 2 ** (int(lq[-1])))\n",
    "\n",
    "for l in L:\n",
    "    for q in range(qb_amount):\n",
    "        lq = l + \"_\" + str(q)\n",
    "        add_Q_value(x, Q_FO1, lq, lq, K4 * 2**q)"
   ]
  },
  {
   "attachments": {},
   "cell_type": "markdown",
   "id": "aac3a00c",
   "metadata": {},
   "source": [
    "\\+ sum_jpmsq {\n",
    "\n",
    "    - K4_m * bz_jpms * 2^q * {L_jpms}_q\n",
    "\n",
    "  }\n",
    "  \n",
    "    -> Q_{bz_jpms, L_jpms_q} = -1/2 * K4_m * 2^q         for all operation jpms, and bit q\n"
   ]
  },
  {
   "cell_type": "code",
   "execution_count": 481,
   "id": "c411a5dc",
   "metadata": {},
   "outputs": [
    {
     "name": "stdout",
     "output_type": "stream",
     "text": [
      "[[74, 74, -1200], [75, 75, -1200], [76, 76, -1200], [77, 77, -1200], [78, 78, -1200], [79, 79, -1200], [80, 80, -1200], [81, 81, -1200], [32, 32, 50], [33, 33, 100], [34, 34, 200], [35, 35, 400], [36, 36, 50], [37, 37, 100], [38, 38, 200], [39, 39, 400], [40, 40, 50], [41, 41, 100], [42, 42, 200], [43, 43, 400], [44, 44, 50], [45, 45, 100], [46, 46, 200], [47, 47, 400], [48, 48, 50], [49, 49, 100], [50, 50, 200], [51, 51, 400], [52, 52, 50], [53, 53, 100], [54, 54, 200], [55, 55, 400], [56, 56, 50], [57, 57, 100], [58, 58, 200], [59, 59, 400], [60, 60, 50], [61, 61, 100], [62, 62, 200], [63, 63, 400], [74, 32, -25.0], [74, 33, -50.0], [74, 34, -100.0], [74, 35, -200.0], [75, 36, -25.0], [75, 37, -50.0], [75, 38, -100.0], [75, 39, -200.0], [76, 40, -25.0], [76, 41, -50.0], [76, 42, -100.0], [76, 43, -200.0], [77, 44, -25.0], [77, 45, -50.0], [77, 46, -100.0], [77, 47, -200.0], [78, 48, -25.0], [78, 49, -50.0], [78, 50, -100.0], [78, 51, -200.0], [79, 52, -25.0], [79, 53, -50.0], [79, 54, -100.0], [79, 55, -200.0], [80, 56, -25.0], [80, 57, -50.0], [80, 58, -100.0], [80, 59, -200.0], [81, 60, -25.0], [81, 61, -50.0], [81, 62, -100.0], [81, 63, -200.0]]\n"
     ]
    }
   ],
   "source": [
    "\n",
    "for i in range(len(O)):\n",
    "    var = bz[i]\n",
    "    l = L[i]\n",
    "    for q in range(qb_amount):\n",
    "        add_Q_value(x, Q_FO1, var, l + \"_\" + str(q) , -(1/2) * K4 * 2**q)\n",
    "\n",
    "\n",
    "print(Q_FO1)\n",
    "update_Q(Q, Q_FO1)"
   ]
  },
  {
   "attachments": {},
   "cell_type": "markdown",
   "id": "aea96d49",
   "metadata": {},
   "source": [
    "<h3>3.2) transition cost</h3>\n",
    "\n",
    "$$\\sum_{mk,jps,j'i's'} ( X^{m}_{jps,k-1} * TC^{m}_{i,i'} * X^{m}_{j'i's',k} ) = $$\n",
    "\n",
    "    sum_m {\n",
    "      sum_k {\n",
    "        sum_i,i' {\n",
    "          TC^m_i,i' * sum_(js)(j's') {\n",
    "            X^m_(jps, k - 1) * X^m_(j'i's', k)   //quadratic (X^2)\n",
    "          }\n",
    "        }\n",
    "      }\n",
    "    }\n",
    "\n",
    "    -> Q_{X^m_(jps, k - 1), X^m_(j'i's', k)} = 1/2 * TC^m_i,i'  \n",
    "    \n",
    "         for all m=1,2,3; column k; i,i'=1,2,...8; j,j'=1,2; s,s'=1,2\n",
    "         \n",
    "      ~ add_Q_value(x, Q_FO2, X^m_(jps, k-1)), X^m_(j'i's', k), 1/2 * TC^m_i,i')"
   ]
  },
  {
   "cell_type": "code",
   "execution_count": 482,
   "id": "2c273fbd",
   "metadata": {},
   "outputs": [],
   "source": [
    "\n",
    "Q_FO2 = []\n",
    "\n",
    "m_index = 0\n",
    "for m in M:\n",
    "    if len(OM[m_index])>1:\n",
    "        for k in range(len(OM[m_index])):\n",
    "            for o1 in OM[m_index]:\n",
    "                for o2 in OM[m_index]:\n",
    "                    new_value = (1/2) * TC[m_index] [get_index(P,o1[1])] [get_index(P,o2[1])]\n",
    "                    if o1 != o2 and new_value != 0:\n",
    "                        add_Q_value(x,Q_FO2,\n",
    "                                    \"X^\" + str(m) + \"_({\" + get_subindexes(o1) + \"},\" + str(k) + \")\",\n",
    "                                    \"X^\" + str(m) + \"_({\" + get_subindexes(o2) + \"},\" + str(k+1) + \")\",\n",
    "                                    new_value)\n",
    "    m_index += 1\n",
    "            \n",
    "update_Q(Q, Q_FO2)"
   ]
  },
  {
   "attachments": {},
   "cell_type": "markdown",
   "id": "4e1650c3",
   "metadata": {},
   "source": [
    "<h3>3.3) out of time cost</h3>"
   ]
  },
  {
   "cell_type": "code",
   "execution_count": 483,
   "id": "d87731fc",
   "metadata": {},
   "outputs": [],
   "source": [
    "Q_FO3 = []"
   ]
  },
  {
   "attachments": {},
   "cell_type": "markdown",
   "id": "aff7d636",
   "metadata": {},
   "source": [
    "  $$\\sum_{j}( (1 - d_j) * ( K1_j + K2_j*(E_j - D_j) ) ) =$$\n",
    "\n",
    "    sum_j {\n",
    "      K1^j - K2^j * D_j       //constant, NOT CONSIDERED IN THE OF\n",
    "    }\n",
    "\n",
    "  \\+ sum_j {\n",
    "\n",
    "    - ( K1^j - K2^j * D_j ) * d_j   //linear (d_j)\n",
    "\n",
    "  }\n",
    "  \n",
    "      -> Q_{d_j} = K2^j * D_j - K1^j   for all j=1,2\n",
    "\n"
   ]
  },
  {
   "cell_type": "code",
   "execution_count": 484,
   "id": "ec1171d8",
   "metadata": {},
   "outputs": [],
   "source": [
    "for d_j in d:\n",
    "    new_value = K2 * D[get_variable_index(d,d_j)] - K1\n",
    "    add_Q_value(x, Q_FO3, d_j, d_j, new_value)"
   ]
  },
  {
   "attachments": {},
   "cell_type": "markdown",
   "id": "201efdf1",
   "metadata": {},
   "source": [
    "\\+ sum_jq {\n",
    "\n",
    "    2^q * K2^j * {E_j}_q   //linear (digits of E_j)\n",
    "\n",
    "  }\n",
    "  \n",
    "      -> Q_{E_j_q} = 2^q * K2^j   for all j=1,2; q=0,1,2,3"
   ]
  },
  {
   "cell_type": "code",
   "execution_count": 485,
   "id": "391c5726",
   "metadata": {},
   "outputs": [],
   "source": [
    "for e in E:\n",
    "    for q in range(qb_amount):\n",
    "        new_value = (2**q) * K2\n",
    "        e_q = e + \"_\" + str(q)\n",
    "        add_Q_value(x, Q_FO3, e_q, e_q, new_value)"
   ]
  },
  {
   "attachments": {},
   "cell_type": "markdown",
   "id": "73f87231",
   "metadata": {},
   "source": [
    "\\+ sum_jq {\n",
    "\n",
    "    - 2^q * K2^j * d_j * {E_j}_q    //quadratic (d*E)\n",
    "    \n",
    "  }\n",
    "\n",
    "      -> Q_{d_j, E_j_q} = -1/2 * 2^q * K2^j   for all j=1,2; q=0,1,2,3"
   ]
  },
  {
   "cell_type": "code",
   "execution_count": 486,
   "id": "f3354d47",
   "metadata": {},
   "outputs": [
    {
     "name": "stdout",
     "output_type": "stream",
     "text": [
      "0.0\n",
      "750.0\n",
      "600.0\n",
      "74\n"
     ]
    }
   ],
   "source": [
    "for e in E:\n",
    "    d_j = d[E.index(e)]\n",
    "    for q in range(qb_amount):\n",
    "        new_value = -(1/2) * (2**q) * K2\n",
    "        add_Q_value(x, Q_FO3, d_j, e + \"_\" + str(q), new_value)\n",
    "        # print(Q_FO3)\n",
    "        \n",
    "update_Q(Q, Q_FO3)\n",
    "\n",
    "print(get_Q_value(Q, x, \"X^M1_({JB1,LAM1,M1,1},1)\", \"X^M1_({JB1,LAM1,M1,2},2)\"))\n",
    "print(get_Q_value(Q, x, \"X^M1_({JB1,LAM1,M1,1},1)\", \"X^M1_({JB1,LAM2,M1,1},2)\"))\n",
    "print(get_Q_value(Q, x, \"d_{JB2}\", \"d_{JB2}\"))\n",
    "print(get_variable_index(x, bz[0]))\n",
    "\n",
    "# print_Q_nonZero(Q, x)\n"
   ]
  },
  {
   "cell_type": "code",
   "execution_count": 487,
   "id": "6dfd2802",
   "metadata": {},
   "outputs": [],
   "source": [
    "# sampleset = sendToDwave(Q, 10)\n",
    "# samples_dict = count_elements(sampleset, len(Q))\n",
    "# make_histogram(samples_dict)\n",
    "\n",
    "# for i in x:\n",
    "#     print(f\"{i} = {lowest_energy(sampleset)[0][x.index(i)]}\")"
   ]
  },
  {
   "cell_type": "code",
   "execution_count": 488,
   "id": "46c496bf",
   "metadata": {},
   "outputs": [],
   "source": [
    "# vector=[]\n",
    "# for i in x:\n",
    "#     vector.append(1 if (i.find('bz_{')>=0 or i.find('d_{')>=0 or i.find('E_{')>=0) else 0)\n",
    "# vector = np.array(vector)\n",
    "# print(vector.T@Q@vector)\n",
    "# vector = np.array(lowest_energy(sampleset)[0])\n",
    "# print(vector.T@Q@vector)"
   ]
  },
  {
   "attachments": {},
   "cell_type": "markdown",
   "id": "1873aded",
   "metadata": {},
   "source": [
    "<h2>4) Constraints</h2>\n"
   ]
  },
  {
   "attachments": {},
   "cell_type": "markdown",
   "id": "3e3edb05",
   "metadata": {},
   "source": [
    "\n",
    "<h3>4.1) Products demands</h3>"
   ]
  },
  {
   "cell_type": "code",
   "execution_count": 489,
   "id": "0988f455",
   "metadata": {},
   "outputs": [],
   "source": [
    "Q_C1 = []"
   ]
  },
  {
   "attachments": {},
   "cell_type": "markdown",
   "id": "31bf516e",
   "metadata": {},
   "source": [
    "4.1.1) Precedent operations\n",
    "\n",
    "$$ L_{jpms} <= \\sum_{s'} { L_{jp'm's'}} $$\n",
    "for all precedent operations O_{jp'm'}\n",
    "    \n",
    "    (*) speed = 1 always\n",
    "    (*) alpha = 1 always (precedent product requirements)\n",
    "\n",
    "    L_(JB1,B1,M2,1) <= L_(JB1,LAM1,M1,1) + L_(JB1,LAM1,M1,2)\n",
    "    L_(JB1,B1,M3,1) <= L_(JB1,LAM2,M1,1) + L_(JB1,LAM2,M1,2)\n",
    "    L_(JB2,B2,M2,1) <= L_(JB2,LAM1,M1,1)\n"
   ]
  },
  {
   "cell_type": "code",
   "execution_count": 490,
   "id": "6f18af81",
   "metadata": {},
   "outputs": [],
   "source": [
    "# L_(JB1,B1,M2,1) <= L_(JB1,LAM1,M1,1) + L_(JB1,LAM1,M1,2)\n",
    "# L + slack - L'1 - L'2\n",
    "vars = []\n",
    "a = []\n",
    "for q in range(qb_amount):\n",
    "    vars.append(\"L_{JB1,B1,M2,1}_\" + str(q))\n",
    "    a.append(2**q)\n",
    "for q in range(qb_amount + 1):\n",
    "    vars.append(\"slack_1_1_1_\" + str(q))\n",
    "    a.append(2**q)\n",
    "for q in range(qb_amount):\n",
    "    vars.append(\"L_{JB1,LAM1,M1,1}_\" + str(q))\n",
    "    a.append(-2**q)\n",
    "for q in range(qb_amount):\n",
    "    vars.append(\"L_{JB1,LAM1,M1,2}_\" + str(q))\n",
    "    a.append(-2**q)\n",
    "\n",
    "Q_C1.extend(linear_constraint(x, vars, a))\n",
    "\n",
    "\n",
    "# L_(JB1,B1,M3,1) <= L_(JB1,LAM2,M1,1) + L_(JB1,LAM2,M1,2)\n",
    "vars = []\n",
    "a = []\n",
    "for q in range(qb_amount):\n",
    "    vars.append(\"L_{JB1,B1,M3,1}_\" + str(q))\n",
    "    a.append(2**q)\n",
    "for q in range(qb_amount + 1):\n",
    "    vars.append(\"slack_1_1_2_\" + str(q))\n",
    "    a.append(2**q)\n",
    "for q in range(qb_amount):\n",
    "    vars.append(\"L_{JB1,LAM2,M1,1}_\" + str(q))\n",
    "    a.append(-2**q)\n",
    "for q in range(qb_amount):\n",
    "    vars.append(\"L_{JB1,LAM2,M1,2}_\" + str(q))\n",
    "    a.append(-2**q)\n",
    "\n",
    "Q_C1.extend(linear_constraint(x, vars, a))\n",
    "\n",
    "\n",
    "# L_(JB2,B2,M2,1) <= L_(JB2,LAM1,M1,1)\n",
    "vars = []\n",
    "a = []\n",
    "for q in range(qb_amount):\n",
    "    vars.append(\"L_{JB2,B2,M2,1}_\" + str(q))\n",
    "    a.append(2**q)\n",
    "for q in range(qb_amount):\n",
    "    vars.append(\"slack_1_1_3_\" + str(q))\n",
    "    a.append(2**q)\n",
    "for q in range(qb_amount):\n",
    "    vars.append(\"L_{JB2,LAM1,M1,1}_\" + str(q))\n",
    "    a.append(-2**q)\n",
    "    \n",
    "Q_C1.extend(linear_constraint(x, vars, a))\n",
    "\n",
    "\n",
    "\n",
    "\n",
    "update_Q(Q, Q_C1)\n",
    "# print_Q_nonZero(Q,x)\n"
   ]
  },
  {
   "cell_type": "code",
   "execution_count": 491,
   "id": "0792b664",
   "metadata": {},
   "outputs": [],
   "source": [
    "# sampleset = sendToDwave(Q, 10)\n",
    "# samples_dict = count_elements(sampleset, len(Q))\n",
    "# make_histogram(samples_dict)\n",
    "\n",
    "# for i in x:\n",
    "#     print(f\"{i} = {lowest_energy(sampleset)[0][x.index(i)]}\")"
   ]
  },
  {
   "attachments": {},
   "cell_type": "markdown",
   "id": "502be265",
   "metadata": {},
   "source": [
    "##### 4.1.1.1) Precedent constraints on variables bz (optional)\n",
    "  \n",
    "    bz_i' = 1 if bz_i = 1 for all precedent operations i' -> i\n",
    "\n",
    "  Penalty: bz_i *(1 - bz_i')\n",
    "  \n",
    "    bz_(JB1,B1,M2,1) * (1 - bz_(JB1,LAM1,M1,1) )\n",
    "    bz_(JB1,B1,M2,1) * (1 - bz_(JB1,LAM2,M1,1) )\n",
    "    bz_(JB1,B1,M3,1) * (1 - bz_(JB1,LAM1,M1,2) )\n",
    "    bz_(JB1,B1,M3,1) * (1 - bz_(JB1,LAM2,M1,2) )\n",
    "    bz_(JB2,B2,M2,1) * (1 - bz_(JB2,LAM1,M1,1) )"
   ]
  },
  {
   "attachments": {},
   "cell_type": "markdown",
   "id": "f0799d34",
   "metadata": {},
   "source": [
    "#### 4.1.2) Total amount of job\n",
    "\n",
    "  $$ a_j <= \\sum_{ms} {L_{j(p_j)ms}} $$\n",
    "    \n",
    "  (*) p_j = final product of job j\n",
    "\n",
    "    a_j + slack(4qb?) = sum_ms {L_j(p_j)ms}\n",
    "    a_JB1 <= L_(JB1,B1,M2,1) + L_(JB1,B1,M3,1)\n",
    "    a_JB2 <= L_(jB2,B2,M2,1)"
   ]
  },
  {
   "cell_type": "code",
   "execution_count": 492,
   "id": "e98743c9",
   "metadata": {},
   "outputs": [
    {
     "name": "stdout",
     "output_type": "stream",
     "text": [
      "[[478, 478, 9.0], [478, 479, 2.0], [478, 480, 4.0], [478, 481, 8.0], [478, 482, 16.0], [479, 479, 20.0], [479, 480, 8.0], [479, 481, 16.0], [479, 482, 32.0], [480, 480, 48.0], [480, 481, 32.0], [480, 482, 64.0], [481, 481, 128.0], [481, 482, 128.0], [482, 482, 384.0], [483, 483, 5.0], [483, 484, 2.0], [483, 485, 4.0], [483, 486, 8.0], [484, 484, 12.0], [484, 485, 8.0], [484, 486, 16.0], [485, 485, 32.0], [485, 486, 32.0], [486, 486, 96.0]]\n"
     ]
    }
   ],
   "source": [
    "Q_C1_2 = []\n",
    "\n",
    "# P ( amounts[0] + slack - L_(JB1,B1,M2,1) - L_(JB1,B1,M3,1) ) ^2\n",
    "b = - amounts[0]\n",
    "vars = []\n",
    "a = []\n",
    "for q in range(qb_amount + 1):  # slack de 5qb\n",
    "    vars.append(\"slack_1_2_\" + J[0] + \"_\" + str(q))\n",
    "    a.append(2**q)\n",
    "for q in range(qb_amount):\n",
    "    vars.append(\"L_{JB1,B1,M2,1}_\" + str(q))\n",
    "    a.append(-2**q)\n",
    "for q in range(qb_amount):\n",
    "    vars.append(\"L_{JB1,B1,M3,1}_\" + str(q))\n",
    "    a.append(-2**q)\n",
    "\n",
    "Q_C1_2.extend(linear_constraint(x, vars, a, b))\n",
    "\n",
    "\n",
    "# P ( amounts[1] + slack - L_(jB2,B2,M2,1) ) ^ 2\n",
    "b = - amounts[1]\n",
    "vars = []\n",
    "a = []\n",
    "for q in range(qb_amount):  # slack de 4qb\n",
    "    vars.append(\"slack_1_2_\" + J[1] + \"_\" + str(q))\n",
    "    a.append(2**q)\n",
    "for q in range(qb_amount):\n",
    "    vars.append(\"L_{JB1,B1,M2,1}_\" + str(q))\n",
    "    a.append(-2**q)\n",
    "\n",
    "Q_C1_2.extend(linear_constraint(x, vars, a, b))\n",
    "\n",
    "print(Q_C1_2)\n",
    "update_Q(Q, Q_C1_2)\n"
   ]
  },
  {
   "attachments": {},
   "cell_type": "markdown",
   "metadata": {},
   "source": [
    "\n",
    "### 4.2) Definition of bz\n",
    "\n",
    "$$ bz_{jpms} = 1\\times(L_{jpms} = 0) $$\n",
    "\n",
    "    bz := (L <= 0)\n",
    "    (L + Mbz - 1 - slack)^2\n",
    "    M >= L_max; 1 - L_min -> M = 16\n",
    "    slack_max = M - 1 = 15 (4qb)"
   ]
  },
  {
   "cell_type": "code",
   "execution_count": 494,
   "id": "15c093ab",
   "metadata": {},
   "outputs": [],
   "source": [
    "# (L + M*bz - 1 - slack)^2\n",
    "M0 = 16\n",
    "Q_C2 = []\n",
    "b = 1\n",
    "\n",
    "for l in L:\n",
    "\n",
    "    vars = []\n",
    "    a = []\n",
    "    \n",
    "    for q in range(qb_amount):\n",
    "        vars.append(l + \"_\" + str(q))\n",
    "        a.append(2**q)\n",
    "    \n",
    "    vars.append(bz[L.index(l)])\n",
    "    a.append(M0)\n",
    "\n",
    "    for q in range(qb_amount):\n",
    "        vars.append(\"slack_2_\" + l + \"_\" + str(q))\n",
    "        a.append(-2**q)\n",
    "    \n",
    "    Q_C2.extend(linear_constraint(x, vars, a, b))\n",
    "\n",
    "update_Q(Q, Q_C2)\n",
    "# print_Q_nonZero(Q,x)\n",
    "\n"
   ]
  },
  {
   "attachments": {},
   "cell_type": "markdown",
   "id": "510a0dd3",
   "metadata": {},
   "source": [
    "  \n",
    "<h3>4.3) Definition of d_j = ( E_j <= D_j )</h3>\n",
    "\n",
    "(delta_j^max not considered)\n",
    "\n",
    "    E_j - D_j >= 1 - M*d_j\n",
    "    -> (E_j - D_j + M*d_j - 1 - slack)^2\n",
    "  con slack <= M - 1      \\\\\\\\ con M = 16, alcanza un slack de 4 qb (slack maximo = 15)\n"
   ]
  },
  {
   "attachments": {},
   "cell_type": "markdown",
   "id": "608b6936",
   "metadata": {},
   "source": [
    "\n",
    "4.4) Definition of ntz_m = sum_jps( bz_jpms )  (((((( not necessary ))))))\n"
   ]
  },
  {
   "attachments": {},
   "cell_type": "markdown",
   "id": "c89804c4",
   "metadata": {},
   "source": [
    "\n",
    "<h3>4.5) Definition of X^m matrices.</h3>\n",
    "Null row for each null operation\n",
    "\n",
    "    sum_k ( X^m_(jps,k) ) = 1 - bz_jpms\n"
   ]
  },
  {
   "attachments": {},
   "cell_type": "markdown",
   "id": "2d6c8a5b",
   "metadata": {},
   "source": [
    "\n",
    "<h3>4.6) Definition of u_mk</h3>\n",
    "\n",
    "    u_mk = ( k <= o_m - ntz_m) = ( k <= o_m - sum(bz) )\n",
    "    for all m and k\n",
    "      k - o_m + sum(bz) >= - M * u_mk + 1\n",
    "      -> (k - o_m + sum(bz) + M * u_mk - 1 - slack)^2\n",
    "      with slack_max = M - 1 >= max{k - o_m + sum(bz)} = k - o_m + max{sum(bz)} = k - o_m + o_m = k\n",
    "\n",
    "      slack_max = M - 1 >= k\n",
    "\n",
    "      * M1: o_m = 5; k = 1,2,3,4,5;\n",
    "        k = 1: slack de 1qb, M = 2\n",
    "        k = 2,3: slack de 2qb, M = 4\n",
    "        k = 4,5: slack de 3qb, M = 8\n",
    "\n",
    "        (sum(bz) + 2 * u_(M1,1) - 5 - slack_0)^2\n",
    "        (sum(bz) + 4 * u_(M1,2) - 4 - slack_0 - 2*slack_1)^2\n",
    "        (sum(bz) + 4 * u_(M1,3) - 3 - slack_0 - 2*slack_1)^2\n",
    "        (sum(bz) + 8 * u_(M1,4) - 2 - slack_0 - 2*slack_1 - 4*slack_2)^2\n",
    "        (sum(bz) + 8 * u_(M1,5) - 1 - slack_0 - 2*slack_1 - 4*slack_2)^2\n",
    "        \n",
    "        (*) sum(bz) = bz_(JB1,LAM1,M1,1) + bz_(JB1,LAM1,M1,2) + bz_(JB1,LAM2,M1,1) + bz_(JB1,LAM2,M1,2) + bz_(JB2,LAM1,M1,1)\n",
    "\n",
    "      * M2: o_m = 2; k = 1,2;\n",
    "        k = 1: slack de 1qb, M = 2\n",
    "        k = 2: slack de 2qb, M = 4\n",
    "\n",
    "        (sum(bz) + 2 * u_mk - 2 - slack_0)^2\n",
    "        (sum(bz) + 4 * u_mk - 1 - slack_0 - 2*slack_1)^2\n",
    "\n",
    "      * M3: o_m = 1; k = 1\n",
    "        u_(M3,1) = 1 - bz_(JB1,B1,M3,1)\n",
    "\n"
   ]
  },
  {
   "attachments": {},
   "cell_type": "markdown",
   "id": "abfe880a",
   "metadata": {},
   "source": [
    "\n",
    "4.6.1) X columns with only one 1 or null\n",
    "  sum_jps( X^m_(jps,k) ) = u_mk\n"
   ]
  },
  {
   "attachments": {},
   "cell_type": "markdown",
   "id": "ac7f5083",
   "metadata": {},
   "source": [
    "\n",
    "<h3>4.7) Precedence restriction</h3>\n",
    "\n",
    "4.7.1) By precedence\n",
    "  S_jp'm's' >= S_jpms + L_jpms    //for all precedences pms -> p'm's'\n",
    "\n",
    "  S_jp'm's' = S_jpms + L_jpms + slack(4qb or less)\n"
   ]
  },
  {
   "attachments": {},
   "cell_type": "markdown",
   "id": "c201d3d3",
   "metadata": {},
   "source": [
    "\n",
    "4.7.1.1) Final dummy operation\n",
    "  E_j >= S_j(p_j)ms + L_j(p_j)ms\n",
    "\n",
    "  E_j = S_j(p_j)ms + L_j(p_j)ms + slack(4qb or less)\n"
   ]
  },
  {
   "attachments": {},
   "cell_type": "markdown",
   "id": "ea73578b",
   "metadata": {},
   "source": [
    "\n",
    "4.7.2) Alternatively (+M)\n",
    "  S_jp'm's' >= S_jpms + L_jpms - M * bz_jpms   //for all precedences pms -> p'm's'\n",
    "  S_jp'm's' = S_jpms + L_jpms - M * bz_jpms + slack\n",
    "  -> slack_max = max{ S' - S + M } = 15 + M ~ 2*M (5qb)\n",
    "\n",
    "  S' >= S - M\n",
    "  M >= max{S-S'} = 15 -> M = 15 o 16\n"
   ]
  },
  {
   "attachments": {},
   "cell_type": "markdown",
   "id": "fba5c78f",
   "metadata": {},
   "source": [
    "\n",
    "4.7.2.1) Final dummy operation\n",
    "  E_j >= S_j(p_j)ms + L_j(p_j)ms - M * bz_j(p_j)ms    for all m, s\n",
    "  E_j = S_j(p_j)ms + L_j(p_j)ms - M * bz_j(p_j)ms + slack\n",
    "  -> slack_max = max{ E - S + M } = 15 + M ~ 2*M (5qb)\n",
    "\n",
    "  M >= S - E iff M >= max{S-E} = 15 -> M = 15 or 16\n",
    "  \n",
    "  (*) si para un E_j hay solo una restriccion (una unica tarea final), la desigualdad pasa a ser igualdad y se fija la slack como 0\n",
    "            (((( fix SLACK = 0 ))))\n"
   ]
  },
  {
   "attachments": {},
   "cell_type": "markdown",
   "id": "073e9f1b",
   "metadata": {},
   "source": [
    "\n",
    "4.7.3) A possible reinforcing constraint\n",
    "  sum_k_{X^m_(jp's')k * k} + M*bz_jp'ms' >= sum_k_{X^m_(jps)k * k} - M*bz_jpms\n"
   ]
  },
  {
   "attachments": {},
   "cell_type": "markdown",
   "id": "4df35aa8",
   "metadata": {},
   "source": [
    "\n",
    "<h3>4.8) Non-superposition of operations:</h3>\n",
    "for each machine m, k = 2,...o_m\n",
    "\n",
    "    sum_jps{\n",
    "      S_jpms * X^m_(jps,k)\n",
    "    }\n",
    "\n",
    "    \\>= sum_jps {\n",
    "      ( S_jpms + Ljpms ) * X^m_(jps,k-1)\n",
    "    }\n",
    "\n",
    "    \\+ sum_(jps, j'p's') {\n",
    "      X^m_(jps,k-1) * TT^m_p,p' * X^m_(j'p's',k)\n",
    "    }\n",
    "    \n",
    "    \\- M * (1 - u_mk)\n",
    "\n"
   ]
  },
  {
   "attachments": {},
   "cell_type": "markdown",
   "id": "830fb3a5",
   "metadata": {},
   "source": [
    "\n",
    "4.8.1) Avoiding the quadratic terms\n",
    "  sum_jps{\n",
    "    y^m_(jps,k)\n",
    "  }\n",
    "\\>= sum_jps {\n",
    "    y^m_(jps,k-1) + Ljpms * z^m_(jps,k-1)\n",
    "  }\n",
    "\\+ sum_(jps, j'p's') {\n",
    "    TT^m_p,p' w^m_(jps,j'p's',k-1)\n",
    "  }\n",
    "\\- M * (1 - u_mk)\n",
    "\n"
   ]
  },
  {
   "attachments": {},
   "cell_type": "markdown",
   "id": "60e21cf5",
   "metadata": {},
   "source": [
    "\n",
    "<h3>4.9) Quadratic constraint auxiliary variables</h3>\n"
   ]
  },
  {
   "attachments": {},
   "cell_type": "markdown",
   "id": "9a3c392e",
   "metadata": {},
   "source": [
    "\n",
    "4.9.1) y^m_ikq = X^m_(i,k) * {S_i}_q\n",
    "  P * ( 3*y^m_ikq + X^m_(i,k)*{S_i}_q - 2*{S_i}_q*y^m_ikq - 2*X^m_(i,k)*y^m_ikq )\n"
   ]
  },
  {
   "attachments": {},
   "cell_type": "markdown",
   "id": "b3eb8223",
   "metadata": {},
   "source": [
    "\n",
    "4.9.2) z^m_ikq = X^m_(i,k) * {L_i}_q\n",
    "  P * ( 3*z^m_ikq + X^m_(i,k)*{L_i}_q - 2*{L_i}_q*z^m_ikq - 2*X^m_(i,k)*z^m_ikq )\n"
   ]
  },
  {
   "attachments": {},
   "cell_type": "markdown",
   "id": "e7691d1d",
   "metadata": {},
   "source": [
    "\n",
    "4.9.3) w^m_ijk = X^m_(i,k) * X^m_(i',k+1)\n",
    "  P * ( 3*w^m_ijk + X^m_(i,k)*X^m_(j,k+1) - 2*X^m_(j,k+1)*w^m_ijk -2*X^m_(i,k)*w^m_ijk )\n"
   ]
  },
  {
   "cell_type": "code",
   "execution_count": 495,
   "id": "6188a57c",
   "metadata": {},
   "outputs": [],
   "source": [
    "# sampleset = sendToDwave(Q, 10)\n",
    "# print(sampleset)\n",
    "# samples_dict = count_elements(sampleset, len(Q))\n",
    "# make_histogram(samples_dict)\n",
    "\n"
   ]
  }
 ],
 "metadata": {
  "kernelspec": {
   "display_name": "Python 3",
   "language": "python",
   "name": "python3"
  },
  "language_info": {
   "codemirror_mode": {
    "name": "ipython",
    "version": 3
   },
   "file_extension": ".py",
   "mimetype": "text/x-python",
   "name": "python",
   "nbconvert_exporter": "python",
   "pygments_lexer": "ipython3",
   "version": "3.10.8"
  },
  "vscode": {
   "interpreter": {
    "hash": "369f2c481f4da34e4445cda3fffd2e751bd1c4d706f27375911949ba6bb62e1c"
   }
  }
 },
 "nbformat": 4,
 "nbformat_minor": 5
}
